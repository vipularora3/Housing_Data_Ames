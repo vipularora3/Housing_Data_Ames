{
 "cells": [
  {
   "cell_type": "code",
   "execution_count": 1,
   "id": "733299e8",
   "metadata": {},
   "outputs": [],
   "source": [
    "import warnings\n",
    "warnings.filterwarnings('ignore')\n",
    "#importing the libraries\n",
    "import numpy as np\n",
    "import pandas as pd\n",
    "import matplotlib.pyplot as plt\n",
    "import seaborn as sns\n",
    "from tqdm import tqdm"
   ]
  },
  {
   "cell_type": "code",
   "execution_count": 2,
   "id": "0eb97250",
   "metadata": {},
   "outputs": [],
   "source": [
    "house = pd.read_excel('Historic_clean.xlsx')"
   ]
  },
  {
   "cell_type": "code",
   "execution_count": 3,
   "id": "acee3812",
   "metadata": {},
   "outputs": [],
   "source": [
    "#split the dependent variable and independent variable\n",
    "house_X =  house.copy()\n",
    "house_X.drop(['SalePrice'],axis=1,inplace=True)\n",
    "house_y = house['SalePrice']"
   ]
  },
  {
   "cell_type": "code",
   "execution_count": 4,
   "id": "802c3411",
   "metadata": {},
   "outputs": [],
   "source": [
    "house_x= house_X.iloc[:,:].values"
   ]
  },
  {
   "cell_type": "code",
   "execution_count": 5,
   "id": "beb1bf3f",
   "metadata": {},
   "outputs": [
    {
     "data": {
      "text/plain": [
       "numpy.ndarray"
      ]
     },
     "execution_count": 5,
     "metadata": {},
     "output_type": "execute_result"
    }
   ],
   "source": [
    "type(house_x)"
   ]
  },
  {
   "cell_type": "code",
   "execution_count": 6,
   "id": "8737a0b7",
   "metadata": {},
   "outputs": [
    {
     "data": {
      "text/html": [
       "<div>\n",
       "<style scoped>\n",
       "    .dataframe tbody tr th:only-of-type {\n",
       "        vertical-align: middle;\n",
       "    }\n",
       "\n",
       "    .dataframe tbody tr th {\n",
       "        vertical-align: top;\n",
       "    }\n",
       "\n",
       "    .dataframe thead th {\n",
       "        text-align: right;\n",
       "    }\n",
       "</style>\n",
       "<table border=\"1\" class=\"dataframe\">\n",
       "  <thead>\n",
       "    <tr style=\"text-align: right;\">\n",
       "      <th></th>\n",
       "      <th>Id</th>\n",
       "      <th>MSSubClass</th>\n",
       "      <th>MSZoning</th>\n",
       "      <th>LotFrontage</th>\n",
       "      <th>LotArea</th>\n",
       "      <th>Street</th>\n",
       "      <th>Alley</th>\n",
       "      <th>LotShape</th>\n",
       "      <th>LandContour</th>\n",
       "      <th>Utilities</th>\n",
       "      <th>...</th>\n",
       "      <th>MiscVal</th>\n",
       "      <th>MoSold</th>\n",
       "      <th>YrSold</th>\n",
       "      <th>SaleType</th>\n",
       "      <th>SaleCondition</th>\n",
       "      <th>SalePrice</th>\n",
       "      <th>agebybuilt</th>\n",
       "      <th>agebyremodel</th>\n",
       "      <th>TotalGrBsmtSF</th>\n",
       "      <th>OA2</th>\n",
       "    </tr>\n",
       "  </thead>\n",
       "  <tbody>\n",
       "    <tr>\n",
       "      <th>0</th>\n",
       "      <td>1</td>\n",
       "      <td>60</td>\n",
       "      <td>RL</td>\n",
       "      <td>65.0</td>\n",
       "      <td>8450</td>\n",
       "      <td>Pave</td>\n",
       "      <td>NaN</td>\n",
       "      <td>Reg</td>\n",
       "      <td>Lvl</td>\n",
       "      <td>AllPub</td>\n",
       "      <td>...</td>\n",
       "      <td>0</td>\n",
       "      <td>2</td>\n",
       "      <td>2008</td>\n",
       "      <td>WD</td>\n",
       "      <td>Normal</td>\n",
       "      <td>208500</td>\n",
       "      <td>5</td>\n",
       "      <td>5</td>\n",
       "      <td>2566</td>\n",
       "      <td>3310</td>\n",
       "    </tr>\n",
       "    <tr>\n",
       "      <th>1</th>\n",
       "      <td>2</td>\n",
       "      <td>20</td>\n",
       "      <td>RL</td>\n",
       "      <td>80.0</td>\n",
       "      <td>9600</td>\n",
       "      <td>Pave</td>\n",
       "      <td>NaN</td>\n",
       "      <td>Reg</td>\n",
       "      <td>Lvl</td>\n",
       "      <td>AllPub</td>\n",
       "      <td>...</td>\n",
       "      <td>0</td>\n",
       "      <td>5</td>\n",
       "      <td>2007</td>\n",
       "      <td>WD</td>\n",
       "      <td>Normal</td>\n",
       "      <td>181500</td>\n",
       "      <td>31</td>\n",
       "      <td>31</td>\n",
       "      <td>2524</td>\n",
       "      <td>2984</td>\n",
       "    </tr>\n",
       "    <tr>\n",
       "      <th>2</th>\n",
       "      <td>3</td>\n",
       "      <td>60</td>\n",
       "      <td>RL</td>\n",
       "      <td>68.0</td>\n",
       "      <td>11250</td>\n",
       "      <td>Pave</td>\n",
       "      <td>NaN</td>\n",
       "      <td>IR1</td>\n",
       "      <td>Lvl</td>\n",
       "      <td>AllPub</td>\n",
       "      <td>...</td>\n",
       "      <td>0</td>\n",
       "      <td>9</td>\n",
       "      <td>2008</td>\n",
       "      <td>WD</td>\n",
       "      <td>Normal</td>\n",
       "      <td>223500</td>\n",
       "      <td>7</td>\n",
       "      <td>6</td>\n",
       "      <td>2706</td>\n",
       "      <td>3476</td>\n",
       "    </tr>\n",
       "    <tr>\n",
       "      <th>3</th>\n",
       "      <td>4</td>\n",
       "      <td>70</td>\n",
       "      <td>RL</td>\n",
       "      <td>60.0</td>\n",
       "      <td>9550</td>\n",
       "      <td>Pave</td>\n",
       "      <td>NaN</td>\n",
       "      <td>IR1</td>\n",
       "      <td>Lvl</td>\n",
       "      <td>AllPub</td>\n",
       "      <td>...</td>\n",
       "      <td>0</td>\n",
       "      <td>2</td>\n",
       "      <td>2006</td>\n",
       "      <td>WD</td>\n",
       "      <td>Abnorml</td>\n",
       "      <td>140000</td>\n",
       "      <td>91</td>\n",
       "      <td>36</td>\n",
       "      <td>2473</td>\n",
       "      <td>3115</td>\n",
       "    </tr>\n",
       "    <tr>\n",
       "      <th>4</th>\n",
       "      <td>5</td>\n",
       "      <td>60</td>\n",
       "      <td>RL</td>\n",
       "      <td>84.0</td>\n",
       "      <td>14260</td>\n",
       "      <td>Pave</td>\n",
       "      <td>NaN</td>\n",
       "      <td>IR1</td>\n",
       "      <td>Lvl</td>\n",
       "      <td>AllPub</td>\n",
       "      <td>...</td>\n",
       "      <td>0</td>\n",
       "      <td>12</td>\n",
       "      <td>2008</td>\n",
       "      <td>WD</td>\n",
       "      <td>Normal</td>\n",
       "      <td>250000</td>\n",
       "      <td>8</td>\n",
       "      <td>8</td>\n",
       "      <td>3343</td>\n",
       "      <td>4529</td>\n",
       "    </tr>\n",
       "  </tbody>\n",
       "</table>\n",
       "<p>5 rows × 81 columns</p>\n",
       "</div>"
      ],
      "text/plain": [
       "   Id  MSSubClass MSZoning  LotFrontage  LotArea Street Alley LotShape  \\\n",
       "0   1          60       RL         65.0     8450   Pave   NaN      Reg   \n",
       "1   2          20       RL         80.0     9600   Pave   NaN      Reg   \n",
       "2   3          60       RL         68.0    11250   Pave   NaN      IR1   \n",
       "3   4          70       RL         60.0     9550   Pave   NaN      IR1   \n",
       "4   5          60       RL         84.0    14260   Pave   NaN      IR1   \n",
       "\n",
       "  LandContour Utilities  ... MiscVal MoSold YrSold SaleType SaleCondition  \\\n",
       "0         Lvl    AllPub  ...       0      2   2008       WD        Normal   \n",
       "1         Lvl    AllPub  ...       0      5   2007       WD        Normal   \n",
       "2         Lvl    AllPub  ...       0      9   2008       WD        Normal   \n",
       "3         Lvl    AllPub  ...       0      2   2006       WD       Abnorml   \n",
       "4         Lvl    AllPub  ...       0     12   2008       WD        Normal   \n",
       "\n",
       "  SalePrice agebybuilt  agebyremodel  TotalGrBsmtSF   OA2  \n",
       "0    208500          5             5           2566  3310  \n",
       "1    181500         31            31           2524  2984  \n",
       "2    223500          7             6           2706  3476  \n",
       "3    140000         91            36           2473  3115  \n",
       "4    250000          8             8           3343  4529  \n",
       "\n",
       "[5 rows x 81 columns]"
      ]
     },
     "execution_count": 6,
     "metadata": {},
     "output_type": "execute_result"
    }
   ],
   "source": [
    "house.head()"
   ]
  },
  {
   "cell_type": "code",
   "execution_count": 7,
   "id": "68afe8f1",
   "metadata": {},
   "outputs": [],
   "source": [
    "house.drop(['Id'],axis=1,inplace=True)\n",
    "house.drop(['MSSubClass'],axis=1,inplace=True)\n",
    "house.drop(['Heating'],axis=1,inplace=True)\n",
    "house.drop(['Functional'],axis=1,inplace=True)\n",
    "house.drop(['RoofMatl'],axis=1,inplace=True)\n",
    "house.drop(['MiscFeature'],axis=1,inplace=True)"
   ]
  },
  {
   "cell_type": "code",
   "execution_count": 8,
   "id": "3a4f1fac",
   "metadata": {},
   "outputs": [
    {
     "data": {
      "text/plain": [
       "(1460, 75)"
      ]
     },
     "execution_count": 8,
     "metadata": {},
     "output_type": "execute_result"
    }
   ],
   "source": [
    "house.shape"
   ]
  },
  {
   "cell_type": "code",
   "execution_count": 9,
   "id": "c8909705",
   "metadata": {},
   "outputs": [],
   "source": [
    "#split the dependent variable and independent variable\n",
    "house_X =  house.copy()\n",
    "house_X.drop(['SalePrice'],axis=1,inplace=True)\n",
    "house_y = house['SalePrice']"
   ]
  },
  {
   "cell_type": "code",
   "execution_count": 10,
   "id": "e083d570",
   "metadata": {},
   "outputs": [],
   "source": [
    "house_x= house_X.iloc[:,:].values"
   ]
  },
  {
   "cell_type": "code",
   "execution_count": 11,
   "id": "4ae5bc57",
   "metadata": {},
   "outputs": [
    {
     "data": {
      "text/html": [
       "<div>\n",
       "<style scoped>\n",
       "    .dataframe tbody tr th:only-of-type {\n",
       "        vertical-align: middle;\n",
       "    }\n",
       "\n",
       "    .dataframe tbody tr th {\n",
       "        vertical-align: top;\n",
       "    }\n",
       "\n",
       "    .dataframe thead th {\n",
       "        text-align: right;\n",
       "    }\n",
       "</style>\n",
       "<table border=\"1\" class=\"dataframe\">\n",
       "  <thead>\n",
       "    <tr style=\"text-align: right;\">\n",
       "      <th></th>\n",
       "      <th>MSZoning</th>\n",
       "      <th>LotFrontage</th>\n",
       "      <th>LotArea</th>\n",
       "      <th>Street</th>\n",
       "      <th>Alley</th>\n",
       "      <th>LotShape</th>\n",
       "      <th>LandContour</th>\n",
       "      <th>Utilities</th>\n",
       "      <th>LotConfig</th>\n",
       "      <th>LandSlope</th>\n",
       "      <th>...</th>\n",
       "      <th>MiscVal</th>\n",
       "      <th>MoSold</th>\n",
       "      <th>YrSold</th>\n",
       "      <th>SaleType</th>\n",
       "      <th>SaleCondition</th>\n",
       "      <th>SalePrice</th>\n",
       "      <th>agebybuilt</th>\n",
       "      <th>agebyremodel</th>\n",
       "      <th>TotalGrBsmtSF</th>\n",
       "      <th>OA2</th>\n",
       "    </tr>\n",
       "  </thead>\n",
       "  <tbody>\n",
       "    <tr>\n",
       "      <th>0</th>\n",
       "      <td>RL</td>\n",
       "      <td>65.0</td>\n",
       "      <td>8450</td>\n",
       "      <td>Pave</td>\n",
       "      <td>NaN</td>\n",
       "      <td>Reg</td>\n",
       "      <td>Lvl</td>\n",
       "      <td>AllPub</td>\n",
       "      <td>Inside</td>\n",
       "      <td>Gtl</td>\n",
       "      <td>...</td>\n",
       "      <td>0</td>\n",
       "      <td>2</td>\n",
       "      <td>2008</td>\n",
       "      <td>WD</td>\n",
       "      <td>Normal</td>\n",
       "      <td>208500</td>\n",
       "      <td>5</td>\n",
       "      <td>5</td>\n",
       "      <td>2566</td>\n",
       "      <td>3310</td>\n",
       "    </tr>\n",
       "  </tbody>\n",
       "</table>\n",
       "<p>1 rows × 75 columns</p>\n",
       "</div>"
      ],
      "text/plain": [
       "  MSZoning  LotFrontage  LotArea Street Alley LotShape LandContour Utilities  \\\n",
       "0       RL         65.0     8450   Pave   NaN      Reg         Lvl    AllPub   \n",
       "\n",
       "  LotConfig LandSlope  ... MiscVal MoSold YrSold SaleType SaleCondition  \\\n",
       "0    Inside       Gtl  ...       0      2   2008       WD        Normal   \n",
       "\n",
       "   SalePrice  agebybuilt  agebyremodel TotalGrBsmtSF   OA2  \n",
       "0     208500           5             5          2566  3310  \n",
       "\n",
       "[1 rows x 75 columns]"
      ]
     },
     "execution_count": 11,
     "metadata": {},
     "output_type": "execute_result"
    }
   ],
   "source": [
    "house.head(1)"
   ]
  },
  {
   "cell_type": "code",
   "execution_count": 12,
   "id": "d9cac1c5",
   "metadata": {},
   "outputs": [
    {
     "data": {
      "text/plain": [
       "['RL',\n",
       " 80.0,\n",
       " 9600,\n",
       " 'Pave',\n",
       " nan,\n",
       " 'Reg',\n",
       " 'Lvl',\n",
       " 'AllPub',\n",
       " 'FR2',\n",
       " 'Gtl',\n",
       " 'Veenker',\n",
       " 'Feedr',\n",
       " 'Norm',\n",
       " '1Fam',\n",
       " '1Story',\n",
       " 6,\n",
       " 1976,\n",
       " 1976,\n",
       " 'Gable',\n",
       " 'MetalSd',\n",
       " 'MetalSd',\n",
       " nan,\n",
       " 0,\n",
       " 'TA',\n",
       " 'TA',\n",
       " 'CBlock',\n",
       " 'Gd',\n",
       " 'TA',\n",
       " 'Gd',\n",
       " 'ALQ',\n",
       " 978,\n",
       " 'Unf',\n",
       " 284,\n",
       " 1262,\n",
       " 'Ex',\n",
       " 'Y',\n",
       " 'SBrkr',\n",
       " 1262,\n",
       " 0,\n",
       " 1262,\n",
       " 1262,\n",
       " 2240,\n",
       " 0,\n",
       " 2.0,\n",
       " 2.5,\n",
       " 3,\n",
       " 1,\n",
       " 'TA',\n",
       " 7,\n",
       " 6,\n",
       " 1,\n",
       " 'TA',\n",
       " 'Attchd',\n",
       " 1976,\n",
       " 'RFn',\n",
       " 2,\n",
       " 'TA',\n",
       " 'TA',\n",
       " 'Y',\n",
       " 298,\n",
       " 0,\n",
       " 0,\n",
       " 0,\n",
       " nan,\n",
       " nan,\n",
       " 0,\n",
       " 5,\n",
       " 2007,\n",
       " 'WD',\n",
       " 'Normal',\n",
       " 31,\n",
       " 31,\n",
       " 2524,\n",
       " 2984]"
      ]
     },
     "execution_count": 12,
     "metadata": {},
     "output_type": "execute_result"
    }
   ],
   "source": [
    "list(house_x[1,:])"
   ]
  },
  {
   "cell_type": "code",
   "execution_count": 13,
   "id": "5868cea1",
   "metadata": {},
   "outputs": [],
   "source": [
    "#list all the categorical variables\n",
    "columns_ohe = [0,3,4,5,6,7,8,9,10,11,12,13,14,18,19,20,21,23,24,25,26,27,28,29,31,34,35,36,47,51,52,54,56,57,58,63,64,68,69]"
   ]
  },
  {
   "cell_type": "code",
   "execution_count": 14,
   "id": "5fa44bcd",
   "metadata": {},
   "outputs": [
    {
     "data": {
      "text/plain": [
       "['RL',\n",
       " 'Pave',\n",
       " nan,\n",
       " 'Reg',\n",
       " 'Lvl',\n",
       " 'AllPub',\n",
       " 'FR2',\n",
       " 'Gtl',\n",
       " 'Veenker',\n",
       " 'Feedr',\n",
       " 'Norm',\n",
       " '1Fam',\n",
       " '1Story',\n",
       " 'Gable',\n",
       " 'MetalSd',\n",
       " 'MetalSd',\n",
       " nan,\n",
       " 'TA',\n",
       " 'TA',\n",
       " 'CBlock',\n",
       " 'Gd',\n",
       " 'TA',\n",
       " 'Gd',\n",
       " 'ALQ',\n",
       " 'Unf',\n",
       " 'Ex',\n",
       " 'Y',\n",
       " 'SBrkr',\n",
       " 'TA',\n",
       " 'TA',\n",
       " 'Attchd',\n",
       " 'RFn',\n",
       " 'TA',\n",
       " 'TA',\n",
       " 'Y',\n",
       " nan,\n",
       " nan,\n",
       " 'WD',\n",
       " 'Normal']"
      ]
     },
     "execution_count": 14,
     "metadata": {},
     "output_type": "execute_result"
    }
   ],
   "source": [
    "list(house_x[1,[0,3,4,5,6,7,8,9,10,11,12,13,14,18,19,20,21,23,24,25,26,27,28,29,31,34,35,36,47,51,52,54,56,57,58,63,64,68,69]])"
   ]
  },
  {
   "cell_type": "code",
   "execution_count": 15,
   "id": "83de1e22",
   "metadata": {},
   "outputs": [
    {
     "name": "stderr",
     "output_type": "stream",
     "text": [
      "100%|██████████| 39/39 [00:00<00:00, 1097.35it/s]\n"
     ]
    }
   ],
   "source": [
    "for num in tqdm(columns_ohe):\n",
    "    dummy_ = pd.get_dummies(house_x[:,num],sparse=True)\n",
    "    if(num!=0):\n",
    "        dummy = np.concatenate((dummy,dummy_),axis=1)\n",
    "    else:\n",
    "        dummy = dummy_"
   ]
  },
  {
   "cell_type": "code",
   "execution_count": 16,
   "id": "49b603cc",
   "metadata": {},
   "outputs": [],
   "source": [
    "dupe = np.delete(house_x,columns_ohe,1)"
   ]
  },
  {
   "cell_type": "code",
   "execution_count": 17,
   "id": "fd0a42bb",
   "metadata": {},
   "outputs": [],
   "source": [
    "dupe = np.concatenate((dupe,dummy),axis=1)"
   ]
  },
  {
   "cell_type": "code",
   "execution_count": 18,
   "id": "bd1565f9",
   "metadata": {},
   "outputs": [
    {
     "data": {
      "text/plain": [
       "[80.0,\n",
       " 9600,\n",
       " 6,\n",
       " 1976,\n",
       " 1976,\n",
       " 0,\n",
       " 978,\n",
       " 284,\n",
       " 1262,\n",
       " 1262,\n",
       " 0,\n",
       " 1262,\n",
       " 1262,\n",
       " 2240,\n",
       " 0,\n",
       " 2.0,\n",
       " 2.5,\n",
       " 3,\n",
       " 1,\n",
       " 7,\n",
       " 6,\n",
       " 1,\n",
       " 1976,\n",
       " 2,\n",
       " 298,\n",
       " 0,\n",
       " 0,\n",
       " 0,\n",
       " 0,\n",
       " 5,\n",
       " 2007,\n",
       " 31,\n",
       " 31,\n",
       " 2524,\n",
       " 2984,\n",
       " False,\n",
       " False,\n",
       " False,\n",
       " True,\n",
       " False,\n",
       " False,\n",
       " True,\n",
       " False,\n",
       " False,\n",
       " False,\n",
       " False,\n",
       " False,\n",
       " True,\n",
       " False,\n",
       " False,\n",
       " False,\n",
       " True,\n",
       " True,\n",
       " False,\n",
       " False,\n",
       " False,\n",
       " True,\n",
       " False,\n",
       " False,\n",
       " True,\n",
       " False,\n",
       " False,\n",
       " False,\n",
       " False,\n",
       " False,\n",
       " False,\n",
       " False,\n",
       " False,\n",
       " False,\n",
       " False,\n",
       " False,\n",
       " False,\n",
       " False,\n",
       " False,\n",
       " False,\n",
       " False,\n",
       " False,\n",
       " False,\n",
       " False,\n",
       " False,\n",
       " False,\n",
       " False,\n",
       " False,\n",
       " False,\n",
       " False,\n",
       " False,\n",
       " True,\n",
       " False,\n",
       " True,\n",
       " False,\n",
       " False,\n",
       " False,\n",
       " False,\n",
       " False,\n",
       " False,\n",
       " False,\n",
       " False,\n",
       " False,\n",
       " True,\n",
       " False,\n",
       " False,\n",
       " False,\n",
       " False,\n",
       " False,\n",
       " True,\n",
       " False,\n",
       " False,\n",
       " False,\n",
       " False,\n",
       " False,\n",
       " False,\n",
       " True,\n",
       " False,\n",
       " False,\n",
       " False,\n",
       " False,\n",
       " False,\n",
       " False,\n",
       " True,\n",
       " False,\n",
       " False,\n",
       " False,\n",
       " False,\n",
       " False,\n",
       " False,\n",
       " False,\n",
       " False,\n",
       " False,\n",
       " False,\n",
       " False,\n",
       " False,\n",
       " True,\n",
       " False,\n",
       " False,\n",
       " False,\n",
       " False,\n",
       " False,\n",
       " False,\n",
       " False,\n",
       " False,\n",
       " False,\n",
       " False,\n",
       " False,\n",
       " False,\n",
       " False,\n",
       " False,\n",
       " True,\n",
       " False,\n",
       " False,\n",
       " False,\n",
       " False,\n",
       " False,\n",
       " False,\n",
       " False,\n",
       " False,\n",
       " False,\n",
       " False,\n",
       " False,\n",
       " False,\n",
       " False,\n",
       " True,\n",
       " False,\n",
       " False,\n",
       " False,\n",
       " False,\n",
       " True,\n",
       " False,\n",
       " True,\n",
       " False,\n",
       " False,\n",
       " False,\n",
       " False,\n",
       " False,\n",
       " False,\n",
       " True,\n",
       " False,\n",
       " False,\n",
       " False,\n",
       " False,\n",
       " True,\n",
       " False,\n",
       " True,\n",
       " False,\n",
       " False,\n",
       " True,\n",
       " False,\n",
       " False,\n",
       " False,\n",
       " False,\n",
       " False,\n",
       " False,\n",
       " False,\n",
       " False,\n",
       " False,\n",
       " False,\n",
       " True,\n",
       " True,\n",
       " False,\n",
       " False,\n",
       " False,\n",
       " False,\n",
       " False,\n",
       " True,\n",
       " False,\n",
       " False,\n",
       " False,\n",
       " False,\n",
       " True,\n",
       " False,\n",
       " False,\n",
       " False,\n",
       " True,\n",
       " False,\n",
       " False,\n",
       " False,\n",
       " False,\n",
       " True,\n",
       " False,\n",
       " True,\n",
       " False,\n",
       " False,\n",
       " False,\n",
       " False,\n",
       " False,\n",
       " True,\n",
       " False,\n",
       " False,\n",
       " False,\n",
       " False,\n",
       " False,\n",
       " True,\n",
       " False,\n",
       " False,\n",
       " False,\n",
       " False,\n",
       " True,\n",
       " False,\n",
       " False,\n",
       " True,\n",
       " False,\n",
       " False,\n",
       " False,\n",
       " False,\n",
       " False,\n",
       " False,\n",
       " False,\n",
       " False,\n",
       " False,\n",
       " False,\n",
       " False,\n",
       " False,\n",
       " False,\n",
       " False,\n",
       " False,\n",
       " True,\n",
       " False,\n",
       " False,\n",
       " False,\n",
       " False,\n",
       " True,\n",
       " False]"
      ]
     },
     "execution_count": 18,
     "metadata": {},
     "output_type": "execute_result"
    }
   ],
   "source": [
    "list(dupe[1,:])"
   ]
  },
  {
   "cell_type": "code",
   "execution_count": 19,
   "id": "365bda59",
   "metadata": {},
   "outputs": [],
   "source": [
    "house_x = np.delete(house_x,columns_ohe,1)"
   ]
  },
  {
   "cell_type": "code",
   "execution_count": 20,
   "id": "d433f8ee",
   "metadata": {},
   "outputs": [],
   "source": [
    "house_x = np.concatenate((house_x,dummy),axis=1)"
   ]
  },
  {
   "cell_type": "code",
   "execution_count": 21,
   "id": "be57b926",
   "metadata": {},
   "outputs": [
    {
     "data": {
      "text/plain": [
       "[80.0,\n",
       " 9600,\n",
       " 6,\n",
       " 1976,\n",
       " 1976,\n",
       " 0,\n",
       " 978,\n",
       " 284,\n",
       " 1262,\n",
       " 1262,\n",
       " 0,\n",
       " 1262,\n",
       " 1262,\n",
       " 2240,\n",
       " 0,\n",
       " 2.0,\n",
       " 2.5,\n",
       " 3,\n",
       " 1,\n",
       " 7,\n",
       " 6,\n",
       " 1,\n",
       " 1976,\n",
       " 2,\n",
       " 298,\n",
       " 0,\n",
       " 0,\n",
       " 0,\n",
       " 0,\n",
       " 5,\n",
       " 2007,\n",
       " 31,\n",
       " 31,\n",
       " 2524,\n",
       " 2984,\n",
       " False,\n",
       " False,\n",
       " False,\n",
       " True,\n",
       " False,\n",
       " False,\n",
       " True,\n",
       " False,\n",
       " False,\n",
       " False,\n",
       " False,\n",
       " False,\n",
       " True,\n",
       " False,\n",
       " False,\n",
       " False,\n",
       " True,\n",
       " True,\n",
       " False,\n",
       " False,\n",
       " False,\n",
       " True,\n",
       " False,\n",
       " False,\n",
       " True,\n",
       " False,\n",
       " False,\n",
       " False,\n",
       " False,\n",
       " False,\n",
       " False,\n",
       " False,\n",
       " False,\n",
       " False,\n",
       " False,\n",
       " False,\n",
       " False,\n",
       " False,\n",
       " False,\n",
       " False,\n",
       " False,\n",
       " False,\n",
       " False,\n",
       " False,\n",
       " False,\n",
       " False,\n",
       " False,\n",
       " False,\n",
       " False,\n",
       " False,\n",
       " False,\n",
       " True,\n",
       " False,\n",
       " True,\n",
       " False,\n",
       " False,\n",
       " False,\n",
       " False,\n",
       " False,\n",
       " False,\n",
       " False,\n",
       " False,\n",
       " False,\n",
       " True,\n",
       " False,\n",
       " False,\n",
       " False,\n",
       " False,\n",
       " False,\n",
       " True,\n",
       " False,\n",
       " False,\n",
       " False,\n",
       " False,\n",
       " False,\n",
       " False,\n",
       " True,\n",
       " False,\n",
       " False,\n",
       " False,\n",
       " False,\n",
       " False,\n",
       " False,\n",
       " True,\n",
       " False,\n",
       " False,\n",
       " False,\n",
       " False,\n",
       " False,\n",
       " False,\n",
       " False,\n",
       " False,\n",
       " False,\n",
       " False,\n",
       " False,\n",
       " False,\n",
       " True,\n",
       " False,\n",
       " False,\n",
       " False,\n",
       " False,\n",
       " False,\n",
       " False,\n",
       " False,\n",
       " False,\n",
       " False,\n",
       " False,\n",
       " False,\n",
       " False,\n",
       " False,\n",
       " False,\n",
       " True,\n",
       " False,\n",
       " False,\n",
       " False,\n",
       " False,\n",
       " False,\n",
       " False,\n",
       " False,\n",
       " False,\n",
       " False,\n",
       " False,\n",
       " False,\n",
       " False,\n",
       " False,\n",
       " True,\n",
       " False,\n",
       " False,\n",
       " False,\n",
       " False,\n",
       " True,\n",
       " False,\n",
       " True,\n",
       " False,\n",
       " False,\n",
       " False,\n",
       " False,\n",
       " False,\n",
       " False,\n",
       " True,\n",
       " False,\n",
       " False,\n",
       " False,\n",
       " False,\n",
       " True,\n",
       " False,\n",
       " True,\n",
       " False,\n",
       " False,\n",
       " True,\n",
       " False,\n",
       " False,\n",
       " False,\n",
       " False,\n",
       " False,\n",
       " False,\n",
       " False,\n",
       " False,\n",
       " False,\n",
       " False,\n",
       " True,\n",
       " True,\n",
       " False,\n",
       " False,\n",
       " False,\n",
       " False,\n",
       " False,\n",
       " True,\n",
       " False,\n",
       " False,\n",
       " False,\n",
       " False,\n",
       " True,\n",
       " False,\n",
       " False,\n",
       " False,\n",
       " True,\n",
       " False,\n",
       " False,\n",
       " False,\n",
       " False,\n",
       " True,\n",
       " False,\n",
       " True,\n",
       " False,\n",
       " False,\n",
       " False,\n",
       " False,\n",
       " False,\n",
       " True,\n",
       " False,\n",
       " False,\n",
       " False,\n",
       " False,\n",
       " False,\n",
       " True,\n",
       " False,\n",
       " False,\n",
       " False,\n",
       " False,\n",
       " True,\n",
       " False,\n",
       " False,\n",
       " True,\n",
       " False,\n",
       " False,\n",
       " False,\n",
       " False,\n",
       " False,\n",
       " False,\n",
       " False,\n",
       " False,\n",
       " False,\n",
       " False,\n",
       " False,\n",
       " False,\n",
       " False,\n",
       " False,\n",
       " False,\n",
       " True,\n",
       " False,\n",
       " False,\n",
       " False,\n",
       " False,\n",
       " True,\n",
       " False]"
      ]
     },
     "execution_count": 21,
     "metadata": {},
     "output_type": "execute_result"
    }
   ],
   "source": [
    "list(house_x[1,:])"
   ]
  },
  {
   "cell_type": "code",
   "execution_count": 22,
   "id": "20e48440",
   "metadata": {},
   "outputs": [],
   "source": [
    "np.random.seed(0)\n",
    "number_of_samples = len(house_x)\n",
    "random_indices = np.random.permutation(number_of_samples)\n",
    "num_training_samples = int(number_of_samples*0.80)\n",
    "house_x_train = house_x[random_indices[:num_training_samples]]\n",
    "house_y_train=house_y[random_indices[:num_training_samples]]\n",
    "house_x_validation=house_x[random_indices[num_training_samples:]]\n",
    "house_y_validation=house_y[random_indices[num_training_samples:]]"
   ]
  },
  {
   "cell_type": "code",
   "execution_count": 23,
   "id": "aec09216",
   "metadata": {},
   "outputs": [
    {
     "data": {
      "text/plain": [
       "1168"
      ]
     },
     "execution_count": 23,
     "metadata": {},
     "output_type": "execute_result"
    }
   ],
   "source": [
    "len(house_x_train)"
   ]
  },
  {
   "cell_type": "code",
   "execution_count": 24,
   "id": "a69045ec",
   "metadata": {},
   "outputs": [
    {
     "data": {
      "text/plain": [
       "1168"
      ]
     },
     "execution_count": 24,
     "metadata": {},
     "output_type": "execute_result"
    }
   ],
   "source": [
    "len(house_y_train)"
   ]
  },
  {
   "cell_type": "code",
   "execution_count": 25,
   "id": "e5e441d7",
   "metadata": {},
   "outputs": [
    {
     "data": {
      "text/plain": [
       "292"
      ]
     },
     "execution_count": 25,
     "metadata": {},
     "output_type": "execute_result"
    }
   ],
   "source": [
    "len(house_x_validation)"
   ]
  },
  {
   "cell_type": "code",
   "execution_count": 26,
   "id": "3886eb23",
   "metadata": {},
   "outputs": [
    {
     "data": {
      "text/plain": [
       "292"
      ]
     },
     "execution_count": 26,
     "metadata": {},
     "output_type": "execute_result"
    }
   ],
   "source": [
    "len(house_y_validation)"
   ]
  },
  {
   "cell_type": "code",
   "execution_count": 27,
   "id": "1468e795",
   "metadata": {},
   "outputs": [],
   "source": [
    "from sklearn.preprocessing import StandardScaler\n",
    "scaler = StandardScaler()\n",
    "# Fit on training set only.\n",
    "scaler.fit(house_x_train)\n",
    "# Apply transform to both thvfe training set and the test set.\n",
    "house_x_train = scaler.transform(house_x_train)\n",
    "house_x_validation = scaler.transform(house_x_validation)"
   ]
  },
  {
   "cell_type": "code",
   "execution_count": 28,
   "id": "3736c336",
   "metadata": {},
   "outputs": [
    {
     "data": {
      "text/plain": [
       "(1168, 261)"
      ]
     },
     "execution_count": 28,
     "metadata": {},
     "output_type": "execute_result"
    }
   ],
   "source": [
    "house_x_train.shape"
   ]
  },
  {
   "cell_type": "code",
   "execution_count": 29,
   "id": "fbd8e7e7",
   "metadata": {},
   "outputs": [
    {
     "data": {
      "text/plain": [
       "(292, 261)"
      ]
     },
     "execution_count": 29,
     "metadata": {},
     "output_type": "execute_result"
    }
   ],
   "source": [
    "house_x_validation.shape"
   ]
  },
  {
   "cell_type": "code",
   "execution_count": 30,
   "id": "b5cd0844",
   "metadata": {},
   "outputs": [],
   "source": [
    "from sklearn.linear_model import LinearRegression\n",
    "model = LinearRegression()\n",
    "model.fit(house_x_train, house_y_train)\n",
    "house_linear_train_predicted = model.predict(house_x_train)\n",
    "house_linear_validation_predicted = model.predict(house_x_validation)"
   ]
  },
  {
   "cell_type": "code",
   "execution_count": 31,
   "id": "310d8d3a",
   "metadata": {},
   "outputs": [
    {
     "data": {
      "text/plain": [
       "0.9196492012971479"
      ]
     },
     "execution_count": 31,
     "metadata": {},
     "output_type": "execute_result"
    }
   ],
   "source": [
    "from sklearn.metrics import r2_score,mean_squared_error\n",
    "r2_score(house_y_train, house_linear_train_predicted)"
   ]
  },
  {
   "cell_type": "code",
   "execution_count": 32,
   "id": "aead0fb9",
   "metadata": {},
   "outputs": [
    {
     "data": {
      "text/plain": [
       "-2.3987548315823172e+23"
      ]
     },
     "execution_count": 32,
     "metadata": {},
     "output_type": "execute_result"
    }
   ],
   "source": [
    "r2_score(house_y_validation, house_linear_validation_predicted)"
   ]
  },
  {
   "cell_type": "code",
   "execution_count": 33,
   "id": "48cdc5b2",
   "metadata": {},
   "outputs": [
    {
     "name": "stdout",
     "output_type": "stream",
     "text": [
      "Training data -Mean squared error: 531885532.08\n",
      "Validation data - Mean squared error: 1181483426254214872664229736873984.00\n",
      "Training data Coefficient of determination: 0.92\n",
      "Validation data Coefficient of determination: -239875483158231717511168.00\n"
     ]
    },
    {
     "data": {
      "image/png": "[encoded data removed]",
      "text/plain": [
       "<Figure size 640x480 with 1 Axes>"
      ]
     },
     "metadata": {},
     "output_type": "display_data"
    }
   ],
   "source": [
    "# The coefficients\n",
    "#print(\"Coefficients: \\n\", model.coef_)\n",
    "# The mean squared error\n",
    "print(\"Training data -Mean squared error: %.2f\" % mean_squared_error(house_y_train, house_linear_train_predicted))\n",
    "print(\"Validation data - Mean squared error: %.2f\" % mean_squared_error(house_y_validation, house_linear_validation_predicted))\n",
    "# The coefficient of determination: 1 is perfect prediction\n",
    "print(\"Training data Coefficient of determination: %.2f\" % r2_score(house_y_train, house_linear_train_predicted))\n",
    "print(\"Validation data Coefficient of determination: %.2f\" % r2_score(house_y_validation, house_linear_validation_predicted))\n",
    "\n",
    "# Plot outputs\n",
    "plt.scatter(house_y_train, house_linear_train_predicted, color=\"black\")\n",
    "plt.scatter(house_y_validation, house_linear_validation_predicted, color=\"red\")\n",
    "\n",
    "#plt.plot(cars_y_validation, cars_linear_validation_predicted, color=\"blue\", linewidth=3)\n",
    "\n",
    "plt.xticks(())\n",
    "plt.yticks(())\n",
    "plt.title(\" Dot Chart - Linear Regression\")\n",
    "plt.xlabel(\"Actual Data\")\n",
    "plt.ylabel(\"Predicted Data\")\n",
    "\n",
    "plt.show()"
   ]
  },
  {
   "cell_type": "code",
   "execution_count": 34,
   "id": "e19c38cd",
   "metadata": {},
   "outputs": [],
   "source": [
    "from sklearn.tree import DecisionTreeRegressor\n",
    "\n",
    "decision = DecisionTreeRegressor(random_state=0)\n",
    "decision.fit(house_x_train, house_y_train)\n",
    "decision_train_predicted = decision.predict(house_x_train)\n",
    "decision_validation_predicted = decision.predict(house_x_validation)"
   ]
  },
  {
   "cell_type": "code",
   "execution_count": 35,
   "id": "2fba87fd",
   "metadata": {},
   "outputs": [
    {
     "data": {
      "text/plain": [
       "1.0"
      ]
     },
     "execution_count": 35,
     "metadata": {},
     "output_type": "execute_result"
    }
   ],
   "source": [
    "r2_score(house_y_train, decision_train_predicted)"
   ]
  },
  {
   "cell_type": "code",
   "execution_count": 36,
   "id": "02d6b3c3",
   "metadata": {},
   "outputs": [
    {
     "data": {
      "text/plain": [
       "0.7528306696382971"
      ]
     },
     "execution_count": 36,
     "metadata": {},
     "output_type": "execute_result"
    }
   ],
   "source": [
    "r2_score(house_y_validation, decision_validation_predicted)"
   ]
  },
  {
   "cell_type": "code",
   "execution_count": 37,
   "id": "0d3f3ad5",
   "metadata": {},
   "outputs": [
    {
     "name": "stdout",
     "output_type": "stream",
     "text": [
      "Training data -Mean squared error: 0.00\n",
      "Validation data - Mean squared error: 1217408563.21\n",
      "Training data Coefficient of determination: 1.00\n",
      "Validation data Coefficient of determination: 0.75\n"
     ]
    },
    {
     "data": {
      "image/png": "[encoded data removed]",
      "text/plain": [
       "<Figure size 640x480 with 1 Axes>"
      ]
     },
     "metadata": {},
     "output_type": "display_data"
    }
   ],
   "source": [
    "# The coefficients\n",
    "#print(\"Coefficients: \\n\", model.coef_)\n",
    "# The mean squared error\n",
    "print(\"Training data -Mean squared error: %.2f\" % mean_squared_error(house_y_train, decision_train_predicted))\n",
    "print(\"Validation data - Mean squared error: %.2f\" % mean_squared_error(house_y_validation, decision_validation_predicted))\n",
    "# The coefficient of determination: 1 is perfect prediction\n",
    "print(\"Training data Coefficient of determination: %.2f\" % r2_score(house_y_train, decision_train_predicted))\n",
    "print(\"Validation data Coefficient of determination: %.2f\" % r2_score(house_y_validation, decision_validation_predicted))\n",
    "\n",
    "# Plot outputs\n",
    "\n",
    "\n",
    "plt.scatter(house_y_train, decision_train_predicted, color=\"black\")\n",
    "plt.scatter(house_y_validation, decision_validation_predicted, color=\"red\")\n",
    "\n",
    "\n",
    "#plt.plot\n",
    "\n",
    "plt.xticks(())\n",
    "plt.yticks(())\n",
    "plt.title(\" Dot Chart - Decision Tree\")\n",
    "plt.xlabel(\"Actual Data\")\n",
    "plt.ylabel(\"Predicted Data\")\n",
    "\n",
    "plt.show()"
   ]
  },
  {
   "cell_type": "code",
   "execution_count": 38,
   "id": "669b5df2",
   "metadata": {},
   "outputs": [],
   "source": [
    "from sklearn.linear_model import Ridge\n",
    "ridge = Ridge()\n",
    "ridge.fit(house_x_train, house_y_train)\n",
    "\n",
    "#model evaluation\n",
    "ridge_train_predicted = ridge.predict(house_x_train)\n",
    "ridge_validation_predicted = ridge.predict(house_x_validation)"
   ]
  },
  {
   "cell_type": "code",
   "execution_count": 39,
   "id": "53fdc703",
   "metadata": {},
   "outputs": [
    {
     "data": {
      "text/plain": [
       "0.9199566994577546"
      ]
     },
     "execution_count": 39,
     "metadata": {},
     "output_type": "execute_result"
    }
   ],
   "source": [
    "r2_score(house_y_train, ridge_train_predicted)"
   ]
  },
  {
   "cell_type": "code",
   "execution_count": 40,
   "id": "350cc866",
   "metadata": {},
   "outputs": [
    {
     "data": {
      "text/plain": [
       "0.8491786616421455"
      ]
     },
     "execution_count": 40,
     "metadata": {},
     "output_type": "execute_result"
    }
   ],
   "source": [
    "r2_score(house_y_validation, ridge_validation_predicted)"
   ]
  },
  {
   "cell_type": "code",
   "execution_count": 41,
   "id": "9e0bb2de",
   "metadata": {},
   "outputs": [
    {
     "name": "stdout",
     "output_type": "stream",
     "text": [
      "Training data -Mean squared error: 529850034.91\n",
      "Validation data - Mean squared error: 742855873.59\n",
      "Training data Coefficient of determination: 0.92\n",
      "Validation data Coefficient of determination: 0.85\n"
     ]
    },
    {
     "data": {
      "image/png": "[encoded data removed]",
      "text/plain": [
       "<Figure size 640x480 with 1 Axes>"
      ]
     },
     "metadata": {},
     "output_type": "display_data"
    }
   ],
   "source": [
    "#print(\"Coefficients: \\n\", model.coef_)\n",
    "# The mean squared error\n",
    "print(\"Training data -Mean squared error: %.2f\" % mean_squared_error(house_y_train, ridge_train_predicted))\n",
    "print(\"Validation data - Mean squared error: %.2f\" % mean_squared_error(house_y_validation,ridge_validation_predicted))\n",
    "# The coefficient of determination: 1 is perfect prediction\n",
    "print(\"Training data Coefficient of determination: %.2f\" % r2_score(house_y_train, ridge_train_predicted))\n",
    "print(\"Validation data Coefficient of determination: %.2f\" % r2_score(house_y_validation, ridge_validation_predicted))\n",
    "\n",
    "# Plot outputs\n",
    "\n",
    "\n",
    "plt.scatter(house_y_train, ridge_train_predicted, color=\"black\")\n",
    "plt.scatter(house_y_validation, ridge_validation_predicted, color=\"red\")\n",
    "\n",
    "\n",
    "#plt.plot\n",
    "\n",
    "plt.xticks(())\n",
    "plt.yticks(())\n",
    "plt.title(\" Dot Chart- Ridge Regression\")\n",
    "plt.xlabel(\"Actual Data\")\n",
    "plt.ylabel(\"Predicted Data\")\n",
    "\n",
    "plt.show()"
   ]
  },
  {
   "cell_type": "code",
   "execution_count": 42,
   "id": "94950642",
   "metadata": {},
   "outputs": [],
   "source": [
    "# Fitting Random Forest Regression to the dataset\n",
    "# import the regressor\n",
    "from sklearn.ensemble import RandomForestRegressor\n",
    "\n",
    "regressor = RandomForestRegressor(n_estimators = 100, random_state = 0)\n",
    "\n",
    "# fit the regressor with x and y data\n",
    "regressor.fit(house_x_train, house_y_train)\n",
    "random_train_predicted = regressor.predict(house_x_train)\n",
    "random_validation_predicted = regressor.predict(house_x_validation)"
   ]
  },
  {
   "cell_type": "code",
   "execution_count": 43,
   "id": "f9fdf261",
   "metadata": {},
   "outputs": [
    {
     "data": {
      "text/plain": [
       "0.9793107053290868"
      ]
     },
     "execution_count": 43,
     "metadata": {},
     "output_type": "execute_result"
    }
   ],
   "source": [
    "r2_score(house_y_train, random_train_predicted)"
   ]
  },
  {
   "cell_type": "code",
   "execution_count": 44,
   "id": "c2f87d7d",
   "metadata": {},
   "outputs": [
    {
     "data": {
      "text/plain": [
       "0.8958173307791701"
      ]
     },
     "execution_count": 44,
     "metadata": {},
     "output_type": "execute_result"
    }
   ],
   "source": [
    "r2_score(house_y_validation, random_validation_predicted)"
   ]
  },
  {
   "cell_type": "code",
   "execution_count": 45,
   "id": "e49bbba6",
   "metadata": {},
   "outputs": [
    {
     "name": "stdout",
     "output_type": "stream",
     "text": [
      "Training data -Mean squared error: 136953666.70\n",
      "Validation data - Mean squared error: 513141632.34\n",
      "Training data Coefficient of determination: 0.98\n",
      "Validation data Coefficient of determination: 0.90\n"
     ]
    },
    {
     "data": {
      "image/png": "[encoded data removed]",
      "text/plain": [
       "<Figure size 640x480 with 1 Axes>"
      ]
     },
     "metadata": {},
     "output_type": "display_data"
    }
   ],
   "source": [
    "#print(\"Coefficients: \\n\", model.coef_)\n",
    "# The mean squared error\n",
    "print(\"Training data -Mean squared error: %.2f\" % mean_squared_error(house_y_train, random_train_predicted))\n",
    "print(\"Validation data - Mean squared error: %.2f\" % mean_squared_error(house_y_validation,random_validation_predicted))\n",
    "# The coefficient of determination: 1 is perfect prediction\n",
    "print(\"Training data Coefficient of determination: %.2f\" % r2_score(house_y_train, random_train_predicted))\n",
    "print(\"Validation data Coefficient of determination: %.2f\" % r2_score(house_y_validation, random_validation_predicted))\n",
    "\n",
    "# Plot outputs\n",
    "\n",
    "\n",
    "plt.scatter(house_y_train, random_train_predicted, color=\"black\")\n",
    "plt.scatter(house_y_validation, random_validation_predicted, color=\"red\")\n",
    "\n",
    "\n",
    "#plt.plot\n",
    "\n",
    "plt.xticks(())\n",
    "plt.yticks(())\n",
    "plt.title(\" Dot Chart - Random Forest\")\n",
    "plt.xlabel(\"Actual Data\")\n",
    "plt.ylabel(\"Predicted Data\")\n",
    "\n",
    "plt.show()"
   ]
  },
  {
   "cell_type": "code",
   "execution_count": null,
   "id": "69b3c04a",
   "metadata": {},
   "outputs": [],
   "source": []
  }
 ],
 "metadata": {
  "kernelspec": {
   "display_name": "Python 3 (ipykernel)",
   "language": "python",
   "name": "python3"
  },
  "language_info": {
   "codemirror_mode": {
    "name": "ipython",
    "version": 3
   },
   "file_extension": ".py",
   "mimetype": "text/x-python",
   "name": "python",
   "nbconvert_exporter": "python",
   "pygments_lexer": "ipython3",
   "version": "3.11.1"
  }
 },
 "nbformat": 4,
 "nbformat_minor": 5
}
