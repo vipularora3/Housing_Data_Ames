{
 "cells": [
  {
   "cell_type": "code",
   "execution_count": 1,
   "id": "733299e8",
   "metadata": {},
   "outputs": [],
   "source": [
    "import warnings\n",
    "warnings.filterwarnings('ignore')\n",
    "#importing the libraries\n",
    "import numpy as np\n",
    "import pandas as pd\n",
    "import matplotlib.pyplot as plt\n",
    "import seaborn as sns\n",
    "from tqdm import tqdm"
   ]
  },
  {
   "cell_type": "code",
   "execution_count": 2,
   "id": "0eb97250",
   "metadata": {},
   "outputs": [],
   "source": [
    "house = pd.read_excel('Historic_clean.xlsx')"
   ]
  },
  {
   "cell_type": "code",
   "execution_count": 3,
   "id": "acee3812",
   "metadata": {},
   "outputs": [],
   "source": [
    "#split the dependent variable and independent variable\n",
    "house_X =  house.copy()\n",
    "house_X.drop(['SalePrice'],axis=1,inplace=True)\n",
    "house_y = house['SalePrice']"
   ]
  },
  {
   "cell_type": "code",
   "execution_count": 4,
   "id": "802c3411",
   "metadata": {},
   "outputs": [],
   "source": [
    "house_x= house_X.iloc[:,:].values"
   ]
  },
  {
   "cell_type": "code",
   "execution_count": 5,
   "id": "beb1bf3f",
   "metadata": {},
   "outputs": [
    {
     "data": {
      "text/plain": [
       "numpy.ndarray"
      ]
     },
     "execution_count": 5,
     "metadata": {},
     "output_type": "execute_result"
    }
   ],
   "source": [
    "type(house_x)"
   ]
  },
  {
   "cell_type": "code",
   "execution_count": 6,
   "id": "8737a0b7",
   "metadata": {},
   "outputs": [
    {
     "data": {
      "text/html": [
       "<div>\n",
       "<style scoped>\n",
       "    .dataframe tbody tr th:only-of-type {\n",
       "        vertical-align: middle;\n",
       "    }\n",
       "\n",
       "    .dataframe tbody tr th {\n",
       "        vertical-align: top;\n",
       "    }\n",
       "\n",
       "    .dataframe thead th {\n",
       "        text-align: right;\n",
       "    }\n",
       "</style>\n",
       "<table border=\"1\" class=\"dataframe\">\n",
       "  <thead>\n",
       "    <tr style=\"text-align: right;\">\n",
       "      <th></th>\n",
       "      <th>Id</th>\n",
       "      <th>MSSubClass</th>\n",
       "      <th>MSZoning</th>\n",
       "      <th>LotFrontage</th>\n",
       "      <th>LotArea</th>\n",
       "      <th>Street</th>\n",
       "      <th>Alley</th>\n",
       "      <th>LotShape</th>\n",
       "      <th>LandContour</th>\n",
       "      <th>Utilities</th>\n",
       "      <th>...</th>\n",
       "      <th>MiscVal</th>\n",
       "      <th>MoSold</th>\n",
       "      <th>YrSold</th>\n",
       "      <th>SaleType</th>\n",
       "      <th>SaleCondition</th>\n",
       "      <th>SalePrice</th>\n",
       "      <th>agebybuilt</th>\n",
       "      <th>agebyremodel</th>\n",
       "      <th>TotalGrBsmtSF</th>\n",
       "      <th>OA2</th>\n",
       "    </tr>\n",
       "  </thead>\n",
       "  <tbody>\n",
       "    <tr>\n",
       "      <th>0</th>\n",
       "      <td>1</td>\n",
       "      <td>60</td>\n",
       "      <td>RL</td>\n",
       "      <td>65.0</td>\n",
       "      <td>8450</td>\n",
       "      <td>Pave</td>\n",
       "      <td>NaN</td>\n",
       "      <td>Reg</td>\n",
       "      <td>Lvl</td>\n",
       "      <td>AllPub</td>\n",
       "      <td>...</td>\n",
       "      <td>0</td>\n",
       "      <td>2</td>\n",
       "      <td>2008</td>\n",
       "      <td>WD</td>\n",
       "      <td>Normal</td>\n",
       "      <td>208500</td>\n",
       "      <td>5</td>\n",
       "      <td>5</td>\n",
       "      <td>2566</td>\n",
       "      <td>3310</td>\n",
       "    </tr>\n",
       "    <tr>\n",
       "      <th>1</th>\n",
       "      <td>2</td>\n",
       "      <td>20</td>\n",
       "      <td>RL</td>\n",
       "      <td>80.0</td>\n",
       "      <td>9600</td>\n",
       "      <td>Pave</td>\n",
       "      <td>NaN</td>\n",
       "      <td>Reg</td>\n",
       "      <td>Lvl</td>\n",
       "      <td>AllPub</td>\n",
       "      <td>...</td>\n",
       "      <td>0</td>\n",
       "      <td>5</td>\n",
       "      <td>2007</td>\n",
       "      <td>WD</td>\n",
       "      <td>Normal</td>\n",
       "      <td>181500</td>\n",
       "      <td>31</td>\n",
       "      <td>31</td>\n",
       "      <td>2524</td>\n",
       "      <td>2984</td>\n",
       "    </tr>\n",
       "    <tr>\n",
       "      <th>2</th>\n",
       "      <td>3</td>\n",
       "      <td>60</td>\n",
       "      <td>RL</td>\n",
       "      <td>68.0</td>\n",
       "      <td>11250</td>\n",
       "      <td>Pave</td>\n",
       "      <td>NaN</td>\n",
       "      <td>IR1</td>\n",
       "      <td>Lvl</td>\n",
       "      <td>AllPub</td>\n",
       "      <td>...</td>\n",
       "      <td>0</td>\n",
       "      <td>9</td>\n",
       "      <td>2008</td>\n",
       "      <td>WD</td>\n",
       "      <td>Normal</td>\n",
       "      <td>223500</td>\n",
       "      <td>7</td>\n",
       "      <td>6</td>\n",
       "      <td>2706</td>\n",
       "      <td>3476</td>\n",
       "    </tr>\n",
       "    <tr>\n",
       "      <th>3</th>\n",
       "      <td>4</td>\n",
       "      <td>70</td>\n",
       "      <td>RL</td>\n",
       "      <td>60.0</td>\n",
       "      <td>9550</td>\n",
       "      <td>Pave</td>\n",
       "      <td>NaN</td>\n",
       "      <td>IR1</td>\n",
       "      <td>Lvl</td>\n",
       "      <td>AllPub</td>\n",
       "      <td>...</td>\n",
       "      <td>0</td>\n",
       "      <td>2</td>\n",
       "      <td>2006</td>\n",
       "      <td>WD</td>\n",
       "      <td>Abnorml</td>\n",
       "      <td>140000</td>\n",
       "      <td>91</td>\n",
       "      <td>36</td>\n",
       "      <td>2473</td>\n",
       "      <td>3115</td>\n",
       "    </tr>\n",
       "    <tr>\n",
       "      <th>4</th>\n",
       "      <td>5</td>\n",
       "      <td>60</td>\n",
       "      <td>RL</td>\n",
       "      <td>84.0</td>\n",
       "      <td>14260</td>\n",
       "      <td>Pave</td>\n",
       "      <td>NaN</td>\n",
       "      <td>IR1</td>\n",
       "      <td>Lvl</td>\n",
       "      <td>AllPub</td>\n",
       "      <td>...</td>\n",
       "      <td>0</td>\n",
       "      <td>12</td>\n",
       "      <td>2008</td>\n",
       "      <td>WD</td>\n",
       "      <td>Normal</td>\n",
       "      <td>250000</td>\n",
       "      <td>8</td>\n",
       "      <td>8</td>\n",
       "      <td>3343</td>\n",
       "      <td>4529</td>\n",
       "    </tr>\n",
       "  </tbody>\n",
       "</table>\n",
       "<p>5 rows × 81 columns</p>\n",
       "</div>"
      ],
      "text/plain": [
       "   Id  MSSubClass MSZoning  LotFrontage  LotArea Street Alley LotShape  \\\n",
       "0   1          60       RL         65.0     8450   Pave   NaN      Reg   \n",
       "1   2          20       RL         80.0     9600   Pave   NaN      Reg   \n",
       "2   3          60       RL         68.0    11250   Pave   NaN      IR1   \n",
       "3   4          70       RL         60.0     9550   Pave   NaN      IR1   \n",
       "4   5          60       RL         84.0    14260   Pave   NaN      IR1   \n",
       "\n",
       "  LandContour Utilities  ... MiscVal MoSold YrSold SaleType SaleCondition  \\\n",
       "0         Lvl    AllPub  ...       0      2   2008       WD        Normal   \n",
       "1         Lvl    AllPub  ...       0      5   2007       WD        Normal   \n",
       "2         Lvl    AllPub  ...       0      9   2008       WD        Normal   \n",
       "3         Lvl    AllPub  ...       0      2   2006       WD       Abnorml   \n",
       "4         Lvl    AllPub  ...       0     12   2008       WD        Normal   \n",
       "\n",
       "  SalePrice agebybuilt  agebyremodel  TotalGrBsmtSF   OA2  \n",
       "0    208500          5             5           2566  3310  \n",
       "1    181500         31            31           2524  2984  \n",
       "2    223500          7             6           2706  3476  \n",
       "3    140000         91            36           2473  3115  \n",
       "4    250000          8             8           3343  4529  \n",
       "\n",
       "[5 rows x 81 columns]"
      ]
     },
     "execution_count": 6,
     "metadata": {},
     "output_type": "execute_result"
    }
   ],
   "source": [
    "house.head()"
   ]
  },
  {
   "cell_type": "code",
   "execution_count": 7,
   "id": "68afe8f1",
   "metadata": {},
   "outputs": [],
   "source": [
    "house.drop(['Id'],axis=1,inplace=True)\n",
    "house.drop(['MSSubClass'],axis=1,inplace=True)\n",
    "house.drop(['Heating'],axis=1,inplace=True)\n",
    "house.drop(['Functional'],axis=1,inplace=True)\n",
    "house.drop(['RoofMatl'],axis=1,inplace=True)\n",
    "house.drop(['MiscFeature'],axis=1,inplace=True)"
   ]
  },
  {
   "cell_type": "code",
   "execution_count": 8,
   "id": "3a4f1fac",
   "metadata": {},
   "outputs": [
    {
     "data": {
      "text/plain": [
       "(1460, 75)"
      ]
     },
     "execution_count": 8,
     "metadata": {},
     "output_type": "execute_result"
    }
   ],
   "source": [
    "house.shape"
   ]
  },
  {
   "cell_type": "code",
   "execution_count": 9,
   "id": "c8909705",
   "metadata": {},
   "outputs": [],
   "source": [
    "#split the dependent variable and independent variable\n",
    "house_X =  house.copy()\n",
    "house_X.drop(['SalePrice'],axis=1,inplace=True)\n",
    "house_y = house['SalePrice']"
   ]
  },
  {
   "cell_type": "code",
   "execution_count": 10,
   "id": "e083d570",
   "metadata": {},
   "outputs": [],
   "source": [
    "house_x= house_X.iloc[:,:].values"
   ]
  },
  {
   "cell_type": "code",
   "execution_count": 11,
   "id": "d9cac1c5",
   "metadata": {},
   "outputs": [
    {
     "data": {
      "text/plain": [
       "['RL',\n",
       " 80.0,\n",
       " 9600,\n",
       " 'Pave',\n",
       " nan,\n",
       " 'Reg',\n",
       " 'Lvl',\n",
       " 'AllPub',\n",
       " 'FR2',\n",
       " 'Gtl',\n",
       " 'Veenker',\n",
       " 'Feedr',\n",
       " 'Norm',\n",
       " '1Fam',\n",
       " '1Story',\n",
       " 6,\n",
       " 1976,\n",
       " 1976,\n",
       " 'Gable',\n",
       " 'MetalSd',\n",
       " 'MetalSd',\n",
       " nan,\n",
       " 0,\n",
       " 'TA',\n",
       " 'TA',\n",
       " 'CBlock',\n",
       " 'Gd',\n",
       " 'TA',\n",
       " 'Gd',\n",
       " 'ALQ',\n",
       " 978,\n",
       " 'Unf',\n",
       " 284,\n",
       " 1262,\n",
       " 'Ex',\n",
       " 'Y',\n",
       " 'SBrkr',\n",
       " 1262,\n",
       " 0,\n",
       " 1262,\n",
       " 1262,\n",
       " 2240,\n",
       " 0,\n",
       " 2.0,\n",
       " 2.5,\n",
       " 3,\n",
       " 1,\n",
       " 'TA',\n",
       " 7,\n",
       " 6,\n",
       " 1,\n",
       " 'TA',\n",
       " 'Attchd',\n",
       " 1976,\n",
       " 'RFn',\n",
       " 2,\n",
       " 'TA',\n",
       " 'TA',\n",
       " 'Y',\n",
       " 298,\n",
       " 0,\n",
       " 0,\n",
       " 0,\n",
       " nan,\n",
       " nan,\n",
       " 0,\n",
       " 5,\n",
       " 2007,\n",
       " 'WD',\n",
       " 'Normal',\n",
       " 31,\n",
       " 31,\n",
       " 2524,\n",
       " 2984]"
      ]
     },
     "execution_count": 11,
     "metadata": {},
     "output_type": "execute_result"
    }
   ],
   "source": [
    "list(house_x[1,:])"
   ]
  },
  {
   "cell_type": "code",
   "execution_count": 12,
   "id": "5868cea1",
   "metadata": {},
   "outputs": [],
   "source": [
    "#list all the categorical variables\n",
    "columns_ohe = [0,3,4,5,6,7,8,9,10,11,12,13,14,18,19,20,21,23,24,25,26,27,28,29,31,34,35,36,47,51,52,54,56,57,58,63,64,68,69]"
   ]
  },
  {
   "cell_type": "code",
   "execution_count": 13,
   "id": "5fa44bcd",
   "metadata": {},
   "outputs": [
    {
     "data": {
      "text/plain": [
       "['RL',\n",
       " 'Pave',\n",
       " nan,\n",
       " 'Reg',\n",
       " 'Lvl',\n",
       " 'AllPub',\n",
       " 'FR2',\n",
       " 'Gtl',\n",
       " 'Veenker',\n",
       " 'Feedr',\n",
       " 'Norm',\n",
       " '1Fam',\n",
       " '1Story',\n",
       " 'Gable',\n",
       " 'MetalSd',\n",
       " 'MetalSd',\n",
       " nan,\n",
       " 'TA',\n",
       " 'TA',\n",
       " 'CBlock',\n",
       " 'Gd',\n",
       " 'TA',\n",
       " 'Gd',\n",
       " 'ALQ',\n",
       " 'Unf',\n",
       " 'Ex',\n",
       " 'Y',\n",
       " 'SBrkr',\n",
       " 'TA',\n",
       " 'TA',\n",
       " 'Attchd',\n",
       " 'RFn',\n",
       " 'TA',\n",
       " 'TA',\n",
       " 'Y',\n",
       " nan,\n",
       " nan,\n",
       " 'WD',\n",
       " 'Normal']"
      ]
     },
     "execution_count": 13,
     "metadata": {},
     "output_type": "execute_result"
    }
   ],
   "source": [
    "list(house_x[1,[0,3,4,5,6,7,8,9,10,11,12,13,14,18,19,20,21,23,24,25,26,27,28,29,31,34,35,36,47,51,52,54,56,57,58,63,64,68,69]])"
   ]
  },
  {
   "cell_type": "code",
   "execution_count": 14,
   "id": "83de1e22",
   "metadata": {},
   "outputs": [
    {
     "name": "stderr",
     "output_type": "stream",
     "text": [
      "100%|██████████| 39/39 [00:00<00:00, 1214.68it/s]\n"
     ]
    }
   ],
   "source": [
    "for num in tqdm(columns_ohe):\n",
    "    dummy_ = pd.get_dummies(house_x[:,num],sparse=True)\n",
    "    if(num!=0):\n",
    "        dummy = np.concatenate((dummy,dummy_),axis=1)\n",
    "    else:\n",
    "        dummy = dummy_"
   ]
  },
  {
   "cell_type": "code",
   "execution_count": 15,
   "id": "49b603cc",
   "metadata": {},
   "outputs": [],
   "source": [
    "dupe = np.delete(house_x,columns_ohe,1)"
   ]
  },
  {
   "cell_type": "code",
   "execution_count": 16,
   "id": "fd0a42bb",
   "metadata": {},
   "outputs": [],
   "source": [
    "dupe = np.concatenate((dupe,dummy),axis=1)"
   ]
  },
  {
   "cell_type": "code",
   "execution_count": 17,
   "id": "bd1565f9",
   "metadata": {},
   "outputs": [
    {
     "data": {
      "text/plain": [
       "[80.0,\n",
       " 9600,\n",
       " 6,\n",
       " 1976,\n",
       " 1976,\n",
       " 0,\n",
       " 978,\n",
       " 284,\n",
       " 1262,\n",
       " 1262,\n",
       " 0,\n",
       " 1262,\n",
       " 1262,\n",
       " 2240,\n",
       " 0,\n",
       " 2.0,\n",
       " 2.5,\n",
       " 3,\n",
       " 1,\n",
       " 7,\n",
       " 6,\n",
       " 1,\n",
       " 1976,\n",
       " 2,\n",
       " 298,\n",
       " 0,\n",
       " 0,\n",
       " 0,\n",
       " 0,\n",
       " 5,\n",
       " 2007,\n",
       " 31,\n",
       " 31,\n",
       " 2524,\n",
       " 2984,\n",
       " False,\n",
       " False,\n",
       " False,\n",
       " True,\n",
       " False,\n",
       " False,\n",
       " True,\n",
       " False,\n",
       " False,\n",
       " False,\n",
       " False,\n",
       " False,\n",
       " True,\n",
       " False,\n",
       " False,\n",
       " False,\n",
       " True,\n",
       " True,\n",
       " False,\n",
       " False,\n",
       " False,\n",
       " True,\n",
       " False,\n",
       " False,\n",
       " True,\n",
       " False,\n",
       " False,\n",
       " False,\n",
       " False,\n",
       " False,\n",
       " False,\n",
       " False,\n",
       " False,\n",
       " False,\n",
       " False,\n",
       " False,\n",
       " False,\n",
       " False,\n",
       " False,\n",
       " False,\n",
       " False,\n",
       " False,\n",
       " False,\n",
       " False,\n",
       " False,\n",
       " False,\n",
       " False,\n",
       " False,\n",
       " False,\n",
       " False,\n",
       " False,\n",
       " True,\n",
       " False,\n",
       " True,\n",
       " False,\n",
       " False,\n",
       " False,\n",
       " False,\n",
       " False,\n",
       " False,\n",
       " False,\n",
       " False,\n",
       " False,\n",
       " True,\n",
       " False,\n",
       " False,\n",
       " False,\n",
       " False,\n",
       " False,\n",
       " True,\n",
       " False,\n",
       " False,\n",
       " False,\n",
       " False,\n",
       " False,\n",
       " False,\n",
       " True,\n",
       " False,\n",
       " False,\n",
       " False,\n",
       " False,\n",
       " False,\n",
       " False,\n",
       " True,\n",
       " False,\n",
       " False,\n",
       " False,\n",
       " False,\n",
       " False,\n",
       " False,\n",
       " False,\n",
       " False,\n",
       " False,\n",
       " False,\n",
       " False,\n",
       " False,\n",
       " True,\n",
       " False,\n",
       " False,\n",
       " False,\n",
       " False,\n",
       " False,\n",
       " False,\n",
       " False,\n",
       " False,\n",
       " False,\n",
       " False,\n",
       " False,\n",
       " False,\n",
       " False,\n",
       " False,\n",
       " True,\n",
       " False,\n",
       " False,\n",
       " False,\n",
       " False,\n",
       " False,\n",
       " False,\n",
       " False,\n",
       " False,\n",
       " False,\n",
       " False,\n",
       " False,\n",
       " False,\n",
       " False,\n",
       " True,\n",
       " False,\n",
       " False,\n",
       " False,\n",
       " False,\n",
       " True,\n",
       " False,\n",
       " True,\n",
       " False,\n",
       " False,\n",
       " False,\n",
       " False,\n",
       " False,\n",
       " False,\n",
       " True,\n",
       " False,\n",
       " False,\n",
       " False,\n",
       " False,\n",
       " True,\n",
       " False,\n",
       " True,\n",
       " False,\n",
       " False,\n",
       " True,\n",
       " False,\n",
       " False,\n",
       " False,\n",
       " False,\n",
       " False,\n",
       " False,\n",
       " False,\n",
       " False,\n",
       " False,\n",
       " False,\n",
       " True,\n",
       " True,\n",
       " False,\n",
       " False,\n",
       " False,\n",
       " False,\n",
       " False,\n",
       " True,\n",
       " False,\n",
       " False,\n",
       " False,\n",
       " False,\n",
       " True,\n",
       " False,\n",
       " False,\n",
       " False,\n",
       " True,\n",
       " False,\n",
       " False,\n",
       " False,\n",
       " False,\n",
       " True,\n",
       " False,\n",
       " True,\n",
       " False,\n",
       " False,\n",
       " False,\n",
       " False,\n",
       " False,\n",
       " True,\n",
       " False,\n",
       " False,\n",
       " False,\n",
       " False,\n",
       " False,\n",
       " True,\n",
       " False,\n",
       " False,\n",
       " False,\n",
       " False,\n",
       " True,\n",
       " False,\n",
       " False,\n",
       " True,\n",
       " False,\n",
       " False,\n",
       " False,\n",
       " False,\n",
       " False,\n",
       " False,\n",
       " False,\n",
       " False,\n",
       " False,\n",
       " False,\n",
       " False,\n",
       " False,\n",
       " False,\n",
       " False,\n",
       " False,\n",
       " True,\n",
       " False,\n",
       " False,\n",
       " False,\n",
       " False,\n",
       " True,\n",
       " False]"
      ]
     },
     "execution_count": 17,
     "metadata": {},
     "output_type": "execute_result"
    }
   ],
   "source": [
    "list(dupe[1,:])"
   ]
  },
  {
   "cell_type": "code",
   "execution_count": 18,
   "id": "365bda59",
   "metadata": {},
   "outputs": [],
   "source": [
    "house_x = np.delete(house_x,columns_ohe,1)"
   ]
  },
  {
   "cell_type": "code",
   "execution_count": 19,
   "id": "d433f8ee",
   "metadata": {},
   "outputs": [],
   "source": [
    "house_x = np.concatenate((house_x,dummy),axis=1)"
   ]
  },
  {
   "cell_type": "code",
   "execution_count": 20,
   "id": "be57b926",
   "metadata": {},
   "outputs": [
    {
     "data": {
      "text/plain": [
       "[80.0,\n",
       " 9600,\n",
       " 6,\n",
       " 1976,\n",
       " 1976,\n",
       " 0,\n",
       " 978,\n",
       " 284,\n",
       " 1262,\n",
       " 1262,\n",
       " 0,\n",
       " 1262,\n",
       " 1262,\n",
       " 2240,\n",
       " 0,\n",
       " 2.0,\n",
       " 2.5,\n",
       " 3,\n",
       " 1,\n",
       " 7,\n",
       " 6,\n",
       " 1,\n",
       " 1976,\n",
       " 2,\n",
       " 298,\n",
       " 0,\n",
       " 0,\n",
       " 0,\n",
       " 0,\n",
       " 5,\n",
       " 2007,\n",
       " 31,\n",
       " 31,\n",
       " 2524,\n",
       " 2984,\n",
       " False,\n",
       " False,\n",
       " False,\n",
       " True,\n",
       " False,\n",
       " False,\n",
       " True,\n",
       " False,\n",
       " False,\n",
       " False,\n",
       " False,\n",
       " False,\n",
       " True,\n",
       " False,\n",
       " False,\n",
       " False,\n",
       " True,\n",
       " True,\n",
       " False,\n",
       " False,\n",
       " False,\n",
       " True,\n",
       " False,\n",
       " False,\n",
       " True,\n",
       " False,\n",
       " False,\n",
       " False,\n",
       " False,\n",
       " False,\n",
       " False,\n",
       " False,\n",
       " False,\n",
       " False,\n",
       " False,\n",
       " False,\n",
       " False,\n",
       " False,\n",
       " False,\n",
       " False,\n",
       " False,\n",
       " False,\n",
       " False,\n",
       " False,\n",
       " False,\n",
       " False,\n",
       " False,\n",
       " False,\n",
       " False,\n",
       " False,\n",
       " False,\n",
       " True,\n",
       " False,\n",
       " True,\n",
       " False,\n",
       " False,\n",
       " False,\n",
       " False,\n",
       " False,\n",
       " False,\n",
       " False,\n",
       " False,\n",
       " False,\n",
       " True,\n",
       " False,\n",
       " False,\n",
       " False,\n",
       " False,\n",
       " False,\n",
       " True,\n",
       " False,\n",
       " False,\n",
       " False,\n",
       " False,\n",
       " False,\n",
       " False,\n",
       " True,\n",
       " False,\n",
       " False,\n",
       " False,\n",
       " False,\n",
       " False,\n",
       " False,\n",
       " True,\n",
       " False,\n",
       " False,\n",
       " False,\n",
       " False,\n",
       " False,\n",
       " False,\n",
       " False,\n",
       " False,\n",
       " False,\n",
       " False,\n",
       " False,\n",
       " False,\n",
       " True,\n",
       " False,\n",
       " False,\n",
       " False,\n",
       " False,\n",
       " False,\n",
       " False,\n",
       " False,\n",
       " False,\n",
       " False,\n",
       " False,\n",
       " False,\n",
       " False,\n",
       " False,\n",
       " False,\n",
       " True,\n",
       " False,\n",
       " False,\n",
       " False,\n",
       " False,\n",
       " False,\n",
       " False,\n",
       " False,\n",
       " False,\n",
       " False,\n",
       " False,\n",
       " False,\n",
       " False,\n",
       " False,\n",
       " True,\n",
       " False,\n",
       " False,\n",
       " False,\n",
       " False,\n",
       " True,\n",
       " False,\n",
       " True,\n",
       " False,\n",
       " False,\n",
       " False,\n",
       " False,\n",
       " False,\n",
       " False,\n",
       " True,\n",
       " False,\n",
       " False,\n",
       " False,\n",
       " False,\n",
       " True,\n",
       " False,\n",
       " True,\n",
       " False,\n",
       " False,\n",
       " True,\n",
       " False,\n",
       " False,\n",
       " False,\n",
       " False,\n",
       " False,\n",
       " False,\n",
       " False,\n",
       " False,\n",
       " False,\n",
       " False,\n",
       " True,\n",
       " True,\n",
       " False,\n",
       " False,\n",
       " False,\n",
       " False,\n",
       " False,\n",
       " True,\n",
       " False,\n",
       " False,\n",
       " False,\n",
       " False,\n",
       " True,\n",
       " False,\n",
       " False,\n",
       " False,\n",
       " True,\n",
       " False,\n",
       " False,\n",
       " False,\n",
       " False,\n",
       " True,\n",
       " False,\n",
       " True,\n",
       " False,\n",
       " False,\n",
       " False,\n",
       " False,\n",
       " False,\n",
       " True,\n",
       " False,\n",
       " False,\n",
       " False,\n",
       " False,\n",
       " False,\n",
       " True,\n",
       " False,\n",
       " False,\n",
       " False,\n",
       " False,\n",
       " True,\n",
       " False,\n",
       " False,\n",
       " True,\n",
       " False,\n",
       " False,\n",
       " False,\n",
       " False,\n",
       " False,\n",
       " False,\n",
       " False,\n",
       " False,\n",
       " False,\n",
       " False,\n",
       " False,\n",
       " False,\n",
       " False,\n",
       " False,\n",
       " False,\n",
       " True,\n",
       " False,\n",
       " False,\n",
       " False,\n",
       " False,\n",
       " True,\n",
       " False]"
      ]
     },
     "execution_count": 20,
     "metadata": {},
     "output_type": "execute_result"
    }
   ],
   "source": [
    "list(house_x[1,:])"
   ]
  },
  {
   "cell_type": "code",
   "execution_count": 21,
   "id": "f2829618",
   "metadata": {},
   "outputs": [],
   "source": [
    "np.random.seed(0)\n",
    "number_of_samples = len(house_x)\n",
    "random_indices = np.random.permutation(number_of_samples)\n",
    "num_training_samples = int(number_of_samples*0.80)\n",
    "house_x_train = house_x[random_indices[:num_training_samples]]\n",
    "house_y_train=house_y[random_indices[:num_training_samples]]\n",
    "house_x_validation=house_x[random_indices[num_training_samples:]]\n",
    "house_y_validation=house_y[random_indices[num_training_samples:]]"
   ]
  },
  {
   "cell_type": "code",
   "execution_count": 22,
   "id": "20e48440",
   "metadata": {},
   "outputs": [
    {
     "data": {
      "text/plain": [
       "1168"
      ]
     },
     "execution_count": 22,
     "metadata": {},
     "output_type": "execute_result"
    }
   ],
   "source": [
    "len(house_x_train)"
   ]
  },
  {
   "cell_type": "code",
   "execution_count": 23,
   "id": "aec09216",
   "metadata": {},
   "outputs": [
    {
     "data": {
      "text/plain": [
       "1168"
      ]
     },
     "execution_count": 23,
     "metadata": {},
     "output_type": "execute_result"
    }
   ],
   "source": [
    "len(house_y_train)"
   ]
  },
  {
   "cell_type": "code",
   "execution_count": 24,
   "id": "e5e441d7",
   "metadata": {},
   "outputs": [
    {
     "data": {
      "text/plain": [
       "292"
      ]
     },
     "execution_count": 24,
     "metadata": {},
     "output_type": "execute_result"
    }
   ],
   "source": [
    "len(house_x_validation)"
   ]
  },
  {
   "cell_type": "code",
   "execution_count": 25,
   "id": "d71fab06",
   "metadata": {},
   "outputs": [
    {
     "data": {
      "text/plain": [
       "292"
      ]
     },
     "execution_count": 25,
     "metadata": {},
     "output_type": "execute_result"
    }
   ],
   "source": [
    "len(house_y_validation)"
   ]
  },
  {
   "cell_type": "code",
   "execution_count": 27,
   "id": "dcafd938",
   "metadata": {},
   "outputs": [],
   "source": [
    "house_future = pd.read_excel('Furture_data_clean.xlsx')"
   ]
  },
  {
   "cell_type": "code",
   "execution_count": 28,
   "id": "8d242e0c",
   "metadata": {},
   "outputs": [],
   "source": [
    "house_future.drop(['Id'],axis=1,inplace=True)\n",
    "house_future.drop(['MSSubClass'],axis=1,inplace=True)\n",
    "house_future.drop(['Heating'],axis=1,inplace=True)\n",
    "house_future.drop(['Functional'],axis=1,inplace=True)\n",
    "house_future.drop(['RoofMatl'],axis=1,inplace=True)\n",
    "house_future.drop(['MiscFeature'],axis=1,inplace=True)"
   ]
  },
  {
   "cell_type": "code",
   "execution_count": 29,
   "id": "ba6c60f7",
   "metadata": {},
   "outputs": [
    {
     "data": {
      "text/html": [
       "<div>\n",
       "<style scoped>\n",
       "    .dataframe tbody tr th:only-of-type {\n",
       "        vertical-align: middle;\n",
       "    }\n",
       "\n",
       "    .dataframe tbody tr th {\n",
       "        vertical-align: top;\n",
       "    }\n",
       "\n",
       "    .dataframe thead th {\n",
       "        text-align: right;\n",
       "    }\n",
       "</style>\n",
       "<table border=\"1\" class=\"dataframe\">\n",
       "  <thead>\n",
       "    <tr style=\"text-align: right;\">\n",
       "      <th></th>\n",
       "      <th>MSZoning</th>\n",
       "      <th>LotFrontage</th>\n",
       "      <th>LotArea</th>\n",
       "      <th>Street</th>\n",
       "      <th>Alley</th>\n",
       "      <th>LotShape</th>\n",
       "      <th>LandContour</th>\n",
       "      <th>Utilities</th>\n",
       "      <th>LotConfig</th>\n",
       "      <th>LandSlope</th>\n",
       "      <th>...</th>\n",
       "      <th>Fence</th>\n",
       "      <th>MiscVal</th>\n",
       "      <th>MoSold</th>\n",
       "      <th>YrSold</th>\n",
       "      <th>SaleType</th>\n",
       "      <th>SaleCondition</th>\n",
       "      <th>agebybuilt</th>\n",
       "      <th>agebyremodel</th>\n",
       "      <th>TotalGrBsmtSF</th>\n",
       "      <th>OA2</th>\n",
       "    </tr>\n",
       "  </thead>\n",
       "  <tbody>\n",
       "    <tr>\n",
       "      <th>0</th>\n",
       "      <td>RH</td>\n",
       "      <td>80.0</td>\n",
       "      <td>11622</td>\n",
       "      <td>Pave</td>\n",
       "      <td>NaN</td>\n",
       "      <td>Reg</td>\n",
       "      <td>Lvl</td>\n",
       "      <td>AllPub</td>\n",
       "      <td>Inside</td>\n",
       "      <td>Gtl</td>\n",
       "      <td>...</td>\n",
       "      <td>MnPrv</td>\n",
       "      <td>0</td>\n",
       "      <td>6</td>\n",
       "      <td>2010</td>\n",
       "      <td>WD</td>\n",
       "      <td>Normal</td>\n",
       "      <td>49</td>\n",
       "      <td>49</td>\n",
       "      <td>1778</td>\n",
       "      <td>2508</td>\n",
       "    </tr>\n",
       "  </tbody>\n",
       "</table>\n",
       "<p>1 rows × 74 columns</p>\n",
       "</div>"
      ],
      "text/plain": [
       "  MSZoning  LotFrontage  LotArea Street Alley LotShape LandContour Utilities  \\\n",
       "0       RH         80.0    11622   Pave   NaN      Reg         Lvl    AllPub   \n",
       "\n",
       "  LotConfig LandSlope  ...  Fence MiscVal MoSold YrSold SaleType  \\\n",
       "0    Inside       Gtl  ...  MnPrv       0      6   2010       WD   \n",
       "\n",
       "   SaleCondition  agebybuilt  agebyremodel TotalGrBsmtSF   OA2  \n",
       "0         Normal          49            49          1778  2508  \n",
       "\n",
       "[1 rows x 74 columns]"
      ]
     },
     "execution_count": 29,
     "metadata": {},
     "output_type": "execute_result"
    }
   ],
   "source": [
    "house_future.head(1)"
   ]
  },
  {
   "cell_type": "code",
   "execution_count": 30,
   "id": "f7793ee3",
   "metadata": {},
   "outputs": [],
   "source": [
    "house_future= house_future.iloc[:,:].values"
   ]
  },
  {
   "cell_type": "code",
   "execution_count": 31,
   "id": "9c1c8ac7",
   "metadata": {},
   "outputs": [
    {
     "data": {
      "text/plain": [
       "numpy.ndarray"
      ]
     },
     "execution_count": 31,
     "metadata": {},
     "output_type": "execute_result"
    }
   ],
   "source": [
    "type(house_future)"
   ]
  },
  {
   "cell_type": "code",
   "execution_count": 32,
   "id": "afca6615",
   "metadata": {},
   "outputs": [
    {
     "data": {
      "text/plain": [
       "(1459, 74)"
      ]
     },
     "execution_count": 32,
     "metadata": {},
     "output_type": "execute_result"
    }
   ],
   "source": [
    "house_future.shape"
   ]
  },
  {
   "cell_type": "code",
   "execution_count": 33,
   "id": "9fdda6f5",
   "metadata": {},
   "outputs": [],
   "source": [
    "#list all the categorical variables\n",
    "columns_ohe = [0,3,4,5,6,7,8,9,10,11,12,13,14,18,19,20,21,23,24,25,26,27,28,29,31,34,35,36,47,51,52,54,56,57,58,63,64,68,69]"
   ]
  },
  {
   "cell_type": "code",
   "execution_count": 34,
   "id": "4fa35410",
   "metadata": {},
   "outputs": [
    {
     "data": {
      "text/plain": [
       "['RL',\n",
       " 'Pave',\n",
       " nan,\n",
       " 'IR1',\n",
       " 'Lvl',\n",
       " 'AllPub',\n",
       " 'Corner',\n",
       " 'Gtl',\n",
       " 'Names',\n",
       " 'Norm',\n",
       " 'Norm',\n",
       " '1Fam',\n",
       " '1Story',\n",
       " 'Hip',\n",
       " 'Wd Sdng',\n",
       " 'Wd Sdng',\n",
       " 'BrkFace',\n",
       " 'TA',\n",
       " 'TA',\n",
       " 'CBlock',\n",
       " 'TA',\n",
       " 'TA',\n",
       " 'No',\n",
       " 'ALQ',\n",
       " 'Unf',\n",
       " 'TA',\n",
       " 'Y',\n",
       " 'SBrkr',\n",
       " 'Gd',\n",
       " nan,\n",
       " 'Attchd',\n",
       " 'Unf',\n",
       " 'TA',\n",
       " 'TA',\n",
       " 'Y',\n",
       " nan,\n",
       " nan,\n",
       " 'WD',\n",
       " 'Normal']"
      ]
     },
     "execution_count": 34,
     "metadata": {},
     "output_type": "execute_result"
    }
   ],
   "source": [
    "list(house_future[1,[0,3,4,5,6,7,8,9,10,11,12,13,14,18,19,20,21,23,24,25,26,27,28,29,31,34,35,36,47,51,52,54,56,57,58,63,64,68,69]])"
   ]
  },
  {
   "cell_type": "code",
   "execution_count": 35,
   "id": "89d32b1c",
   "metadata": {},
   "outputs": [
    {
     "name": "stderr",
     "output_type": "stream",
     "text": [
      "100%|██████████| 39/39 [00:00<00:00, 1053.42it/s]\n"
     ]
    }
   ],
   "source": [
    "for num in tqdm(columns_ohe):\n",
    "    dummy_ = pd.get_dummies(house_future[:,num],sparse=True)\n",
    "    if(num!=0):\n",
    "        dummy = np.concatenate((dummy,dummy_),axis=1)\n",
    "    else:\n",
    "        dummy = dummy_"
   ]
  },
  {
   "cell_type": "code",
   "execution_count": 36,
   "id": "21691e7d",
   "metadata": {},
   "outputs": [],
   "source": [
    "dupe = np.delete(house_future,columns_ohe,1)"
   ]
  },
  {
   "cell_type": "code",
   "execution_count": 37,
   "id": "5268a655",
   "metadata": {},
   "outputs": [],
   "source": [
    "dupe = np.concatenate((dupe,dummy),axis=1)"
   ]
  },
  {
   "cell_type": "code",
   "execution_count": 38,
   "id": "9ca78f48",
   "metadata": {},
   "outputs": [
    {
     "data": {
      "text/plain": [
       "[81.0,\n",
       " 14267,\n",
       " 6,\n",
       " 1958,\n",
       " 1958,\n",
       " 108,\n",
       " 923,\n",
       " 406,\n",
       " 1329,\n",
       " 1329,\n",
       " 0,\n",
       " 1329,\n",
       " 1329,\n",
       " 2252,\n",
       " 0,\n",
       " 1.5,\n",
       " 1.5,\n",
       " 3,\n",
       " 1,\n",
       " 6,\n",
       " 6,\n",
       " 0,\n",
       " 1958,\n",
       " 1,\n",
       " 393,\n",
       " 36,\n",
       " 36,\n",
       " 0,\n",
       " 12500,\n",
       " 6,\n",
       " 2010,\n",
       " 52,\n",
       " 52,\n",
       " 2658,\n",
       " 3078,\n",
       " False,\n",
       " False,\n",
       " False,\n",
       " True,\n",
       " False,\n",
       " False,\n",
       " True,\n",
       " False,\n",
       " False,\n",
       " True,\n",
       " False,\n",
       " False,\n",
       " False,\n",
       " False,\n",
       " False,\n",
       " False,\n",
       " True,\n",
       " True,\n",
       " False,\n",
       " True,\n",
       " False,\n",
       " False,\n",
       " False,\n",
       " False,\n",
       " True,\n",
       " False,\n",
       " False,\n",
       " False,\n",
       " False,\n",
       " False,\n",
       " False,\n",
       " False,\n",
       " False,\n",
       " False,\n",
       " False,\n",
       " False,\n",
       " False,\n",
       " False,\n",
       " False,\n",
       " False,\n",
       " False,\n",
       " True,\n",
       " False,\n",
       " False,\n",
       " False,\n",
       " False,\n",
       " False,\n",
       " False,\n",
       " False,\n",
       " False,\n",
       " False,\n",
       " False,\n",
       " False,\n",
       " False,\n",
       " True,\n",
       " False,\n",
       " False,\n",
       " False,\n",
       " False,\n",
       " False,\n",
       " False,\n",
       " False,\n",
       " False,\n",
       " True,\n",
       " False,\n",
       " False,\n",
       " False,\n",
       " False,\n",
       " False,\n",
       " True,\n",
       " False,\n",
       " False,\n",
       " False,\n",
       " False,\n",
       " False,\n",
       " False,\n",
       " True,\n",
       " False,\n",
       " False,\n",
       " False,\n",
       " False,\n",
       " False,\n",
       " False,\n",
       " False,\n",
       " False,\n",
       " True,\n",
       " False,\n",
       " False,\n",
       " False,\n",
       " False,\n",
       " False,\n",
       " False,\n",
       " False,\n",
       " False,\n",
       " False,\n",
       " False,\n",
       " False,\n",
       " False,\n",
       " False,\n",
       " False,\n",
       " False,\n",
       " True,\n",
       " False,\n",
       " False,\n",
       " False,\n",
       " False,\n",
       " False,\n",
       " False,\n",
       " False,\n",
       " False,\n",
       " False,\n",
       " False,\n",
       " False,\n",
       " False,\n",
       " False,\n",
       " False,\n",
       " True,\n",
       " False,\n",
       " False,\n",
       " False,\n",
       " True,\n",
       " False,\n",
       " False,\n",
       " False,\n",
       " False,\n",
       " True,\n",
       " False,\n",
       " False,\n",
       " False,\n",
       " False,\n",
       " True,\n",
       " False,\n",
       " True,\n",
       " False,\n",
       " False,\n",
       " False,\n",
       " False,\n",
       " False,\n",
       " False,\n",
       " False,\n",
       " True,\n",
       " False,\n",
       " False,\n",
       " False,\n",
       " True,\n",
       " False,\n",
       " False,\n",
       " False,\n",
       " True,\n",
       " True,\n",
       " False,\n",
       " False,\n",
       " False,\n",
       " False,\n",
       " False,\n",
       " False,\n",
       " False,\n",
       " False,\n",
       " False,\n",
       " False,\n",
       " True,\n",
       " False,\n",
       " False,\n",
       " False,\n",
       " False,\n",
       " True,\n",
       " False,\n",
       " True,\n",
       " False,\n",
       " False,\n",
       " False,\n",
       " False,\n",
       " True,\n",
       " False,\n",
       " False,\n",
       " True,\n",
       " False,\n",
       " False,\n",
       " False,\n",
       " False,\n",
       " False,\n",
       " False,\n",
       " False,\n",
       " True,\n",
       " False,\n",
       " False,\n",
       " False,\n",
       " False,\n",
       " False,\n",
       " False,\n",
       " True,\n",
       " False,\n",
       " False,\n",
       " False,\n",
       " False,\n",
       " True,\n",
       " False,\n",
       " False,\n",
       " False,\n",
       " False,\n",
       " True,\n",
       " False,\n",
       " False,\n",
       " True,\n",
       " False,\n",
       " False,\n",
       " False,\n",
       " False,\n",
       " False,\n",
       " False,\n",
       " False,\n",
       " False,\n",
       " False,\n",
       " False,\n",
       " False,\n",
       " False,\n",
       " False,\n",
       " False,\n",
       " False,\n",
       " True,\n",
       " False,\n",
       " False,\n",
       " False,\n",
       " False,\n",
       " True,\n",
       " False]"
      ]
     },
     "execution_count": 38,
     "metadata": {},
     "output_type": "execute_result"
    }
   ],
   "source": [
    "list(dupe[1,:])"
   ]
  },
  {
   "cell_type": "code",
   "execution_count": 39,
   "id": "e4bd690d",
   "metadata": {},
   "outputs": [],
   "source": [
    "house_future = np.delete(house_future,columns_ohe,1)"
   ]
  },
  {
   "cell_type": "code",
   "execution_count": 40,
   "id": "2e1095de",
   "metadata": {},
   "outputs": [],
   "source": [
    "house_future = np.concatenate((house_future,dummy),axis=1)"
   ]
  },
  {
   "cell_type": "code",
   "execution_count": 41,
   "id": "73da3234",
   "metadata": {
    "scrolled": true
   },
   "outputs": [
    {
     "data": {
      "text/plain": [
       "[81.0,\n",
       " 14267,\n",
       " 6,\n",
       " 1958,\n",
       " 1958,\n",
       " 108,\n",
       " 923,\n",
       " 406,\n",
       " 1329,\n",
       " 1329,\n",
       " 0,\n",
       " 1329,\n",
       " 1329,\n",
       " 2252,\n",
       " 0,\n",
       " 1.5,\n",
       " 1.5,\n",
       " 3,\n",
       " 1,\n",
       " 6,\n",
       " 6,\n",
       " 0,\n",
       " 1958,\n",
       " 1,\n",
       " 393,\n",
       " 36,\n",
       " 36,\n",
       " 0,\n",
       " 12500,\n",
       " 6,\n",
       " 2010,\n",
       " 52,\n",
       " 52,\n",
       " 2658,\n",
       " 3078,\n",
       " False,\n",
       " False,\n",
       " False,\n",
       " True,\n",
       " False,\n",
       " False,\n",
       " True,\n",
       " False,\n",
       " False,\n",
       " True,\n",
       " False,\n",
       " False,\n",
       " False,\n",
       " False,\n",
       " False,\n",
       " False,\n",
       " True,\n",
       " True,\n",
       " False,\n",
       " True,\n",
       " False,\n",
       " False,\n",
       " False,\n",
       " False,\n",
       " True,\n",
       " False,\n",
       " False,\n",
       " False,\n",
       " False,\n",
       " False,\n",
       " False,\n",
       " False,\n",
       " False,\n",
       " False,\n",
       " False,\n",
       " False,\n",
       " False,\n",
       " False,\n",
       " False,\n",
       " False,\n",
       " False,\n",
       " True,\n",
       " False,\n",
       " False,\n",
       " False,\n",
       " False,\n",
       " False,\n",
       " False,\n",
       " False,\n",
       " False,\n",
       " False,\n",
       " False,\n",
       " False,\n",
       " False,\n",
       " True,\n",
       " False,\n",
       " False,\n",
       " False,\n",
       " False,\n",
       " False,\n",
       " False,\n",
       " False,\n",
       " False,\n",
       " True,\n",
       " False,\n",
       " False,\n",
       " False,\n",
       " False,\n",
       " False,\n",
       " True,\n",
       " False,\n",
       " False,\n",
       " False,\n",
       " False,\n",
       " False,\n",
       " False,\n",
       " True,\n",
       " False,\n",
       " False,\n",
       " False,\n",
       " False,\n",
       " False,\n",
       " False,\n",
       " False,\n",
       " False,\n",
       " True,\n",
       " False,\n",
       " False,\n",
       " False,\n",
       " False,\n",
       " False,\n",
       " False,\n",
       " False,\n",
       " False,\n",
       " False,\n",
       " False,\n",
       " False,\n",
       " False,\n",
       " False,\n",
       " False,\n",
       " False,\n",
       " True,\n",
       " False,\n",
       " False,\n",
       " False,\n",
       " False,\n",
       " False,\n",
       " False,\n",
       " False,\n",
       " False,\n",
       " False,\n",
       " False,\n",
       " False,\n",
       " False,\n",
       " False,\n",
       " False,\n",
       " True,\n",
       " False,\n",
       " False,\n",
       " False,\n",
       " True,\n",
       " False,\n",
       " False,\n",
       " False,\n",
       " False,\n",
       " True,\n",
       " False,\n",
       " False,\n",
       " False,\n",
       " False,\n",
       " True,\n",
       " False,\n",
       " True,\n",
       " False,\n",
       " False,\n",
       " False,\n",
       " False,\n",
       " False,\n",
       " False,\n",
       " False,\n",
       " True,\n",
       " False,\n",
       " False,\n",
       " False,\n",
       " True,\n",
       " False,\n",
       " False,\n",
       " False,\n",
       " True,\n",
       " True,\n",
       " False,\n",
       " False,\n",
       " False,\n",
       " False,\n",
       " False,\n",
       " False,\n",
       " False,\n",
       " False,\n",
       " False,\n",
       " False,\n",
       " True,\n",
       " False,\n",
       " False,\n",
       " False,\n",
       " False,\n",
       " True,\n",
       " False,\n",
       " True,\n",
       " False,\n",
       " False,\n",
       " False,\n",
       " False,\n",
       " True,\n",
       " False,\n",
       " False,\n",
       " True,\n",
       " False,\n",
       " False,\n",
       " False,\n",
       " False,\n",
       " False,\n",
       " False,\n",
       " False,\n",
       " True,\n",
       " False,\n",
       " False,\n",
       " False,\n",
       " False,\n",
       " False,\n",
       " False,\n",
       " True,\n",
       " False,\n",
       " False,\n",
       " False,\n",
       " False,\n",
       " True,\n",
       " False,\n",
       " False,\n",
       " False,\n",
       " False,\n",
       " True,\n",
       " False,\n",
       " False,\n",
       " True,\n",
       " False,\n",
       " False,\n",
       " False,\n",
       " False,\n",
       " False,\n",
       " False,\n",
       " False,\n",
       " False,\n",
       " False,\n",
       " False,\n",
       " False,\n",
       " False,\n",
       " False,\n",
       " False,\n",
       " False,\n",
       " True,\n",
       " False,\n",
       " False,\n",
       " False,\n",
       " False,\n",
       " True,\n",
       " False]"
      ]
     },
     "execution_count": 41,
     "metadata": {},
     "output_type": "execute_result"
    }
   ],
   "source": [
    "list(house_future[1,:])"
   ]
  },
  {
   "cell_type": "code",
   "execution_count": 42,
   "id": "6d0a9de5",
   "metadata": {},
   "outputs": [],
   "source": [
    "house_x_test=house_future"
   ]
  },
  {
   "cell_type": "code",
   "execution_count": 43,
   "id": "cce55fb1",
   "metadata": {},
   "outputs": [
    {
     "data": {
      "text/plain": [
       "1459"
      ]
     },
     "execution_count": 43,
     "metadata": {},
     "output_type": "execute_result"
    }
   ],
   "source": [
    "len(house_x_test)"
   ]
  },
  {
   "cell_type": "markdown",
   "id": "6260fbdd",
   "metadata": {},
   "source": [
    "# Standard Scaling"
   ]
  },
  {
   "cell_type": "code",
   "execution_count": 44,
   "id": "ef23f1d3",
   "metadata": {},
   "outputs": [],
   "source": [
    "from sklearn.preprocessing import StandardScaler\n",
    "scaler = StandardScaler()\n",
    "# Fit on training set only.\n",
    "scaler.fit(house_x_train)\n",
    "# Apply transform to both the training set and the valdation set.\n",
    "house_x_train = scaler.transform(house_x_train)\n",
    "house_x_validation = scaler.transform(house_x_validation)\n",
    "\n",
    "# Apply transform to future data that is the test set.\n",
    "house_x_test = scaler.transform(house_x_test)"
   ]
  },
  {
   "cell_type": "code",
   "execution_count": 45,
   "id": "84c77af3",
   "metadata": {},
   "outputs": [
    {
     "data": {
      "text/plain": [
       "(1168, 261)"
      ]
     },
     "execution_count": 45,
     "metadata": {},
     "output_type": "execute_result"
    }
   ],
   "source": [
    "house_x_train.shape"
   ]
  },
  {
   "cell_type": "code",
   "execution_count": 46,
   "id": "c532b14c",
   "metadata": {},
   "outputs": [
    {
     "data": {
      "text/plain": [
       "(292, 261)"
      ]
     },
     "execution_count": 46,
     "metadata": {},
     "output_type": "execute_result"
    }
   ],
   "source": [
    "house_x_validation.shape"
   ]
  },
  {
   "cell_type": "code",
   "execution_count": 47,
   "id": "f6eae726",
   "metadata": {},
   "outputs": [
    {
     "data": {
      "text/plain": [
       "(1459, 261)"
      ]
     },
     "execution_count": 47,
     "metadata": {},
     "output_type": "execute_result"
    }
   ],
   "source": [
    "house_x_test.shape"
   ]
  },
  {
   "cell_type": "markdown",
   "id": "6b1cbc92",
   "metadata": {},
   "source": [
    "# PCA"
   ]
  },
  {
   "cell_type": "code",
   "execution_count": 48,
   "id": "69b3c04a",
   "metadata": {},
   "outputs": [],
   "source": [
    "from sklearn.decomposition import PCA\n",
    "# Make an instance of the Model\n",
    "pca = PCA(.95)\n",
    "pca.fit(house_x_train)\n",
    "house_x_train = pca.transform(house_x_train)\n",
    "house_x_validation = pca.transform(house_x_validation)\n",
    "\n",
    "# Apply PCA to future data that is the test set.\n",
    "house_x_test = pca.transform(house_x_test)"
   ]
  },
  {
   "cell_type": "code",
   "execution_count": 49,
   "id": "810b54a1",
   "metadata": {},
   "outputs": [
    {
     "data": {
      "text/plain": [
       "(1168, 158)"
      ]
     },
     "execution_count": 49,
     "metadata": {},
     "output_type": "execute_result"
    }
   ],
   "source": [
    "house_x_train.shape"
   ]
  },
  {
   "cell_type": "code",
   "execution_count": 50,
   "id": "df6032da",
   "metadata": {},
   "outputs": [
    {
     "data": {
      "text/plain": [
       "(292, 158)"
      ]
     },
     "execution_count": 50,
     "metadata": {},
     "output_type": "execute_result"
    }
   ],
   "source": [
    "house_x_validation.shape"
   ]
  },
  {
   "cell_type": "code",
   "execution_count": 51,
   "id": "2e0dda02",
   "metadata": {},
   "outputs": [
    {
     "data": {
      "text/plain": [
       "(1459, 158)"
      ]
     },
     "execution_count": 51,
     "metadata": {},
     "output_type": "execute_result"
    }
   ],
   "source": [
    "house_x_test.shape"
   ]
  },
  {
   "cell_type": "code",
   "execution_count": 52,
   "id": "1e6d4828",
   "metadata": {},
   "outputs": [],
   "source": [
    "R2_train = []\n",
    "R2_valid = []\n",
    "R2_test = []"
   ]
  },
  {
   "cell_type": "code",
   "execution_count": 53,
   "id": "fc053f00",
   "metadata": {},
   "outputs": [],
   "source": [
    "from sklearn.linear_model import LinearRegression\n",
    "model = LinearRegression()\n",
    "model.fit(house_x_train, house_y_train)\n",
    "house_linear_train_predicted = model.predict(house_x_train)\n",
    "house_linear_validation_predicted = model.predict(house_x_validation)"
   ]
  },
  {
   "cell_type": "code",
   "execution_count": 54,
   "id": "50a2dd0f",
   "metadata": {},
   "outputs": [],
   "source": [
    "from sklearn.metrics import r2_score,mean_squared_error\n",
    "r2_train_score = r2_score(house_y_train,house_linear_train_predicted)\n",
    "r2_test_score = r2_score(house_y_validation, house_linear_validation_predicted)\n",
    "R2_train.append(round(r2_train_score,2))\n",
    "R2_test.append(round(r2_test_score,2))"
   ]
  },
  {
   "cell_type": "code",
   "execution_count": 55,
   "id": "d906ed58",
   "metadata": {},
   "outputs": [
    {
     "name": "stdout",
     "output_type": "stream",
     "text": [
      "Training data -Mean squared error: 723889958.38\n",
      "Validation data - Mean squared error: 900923846.41\n",
      "Training data Coefficient of determination: 0.89\n",
      "Validation data Coefficient of determination: 0.82\n"
     ]
    },
    {
     "data": {
      "image/png": "[encoded data removed]",
      "text/plain": [
       "<Figure size 640x480 with 1 Axes>"
      ]
     },
     "metadata": {},
     "output_type": "display_data"
    }
   ],
   "source": [
    "# The coefficients\n",
    "#print(\"Coefficients: \\n\", model.coef_)\n",
    "# The mean squared error\n",
    "print(\"Training data -Mean squared error: %.2f\" % mean_squared_error(house_y_train, house_linear_train_predicted))\n",
    "print(\"Validation data - Mean squared error: %.2f\" % mean_squared_error(house_y_validation, house_linear_validation_predicted))\n",
    "# The coefficient of determination: 1 is perfect prediction\n",
    "print(\"Training data Coefficient of determination: %.2f\" % r2_score(house_y_train, house_linear_train_predicted))\n",
    "print(\"Validation data Coefficient of determination: %.2f\" % r2_score(house_y_validation, house_linear_validation_predicted))\n",
    "\n",
    "# Plot outputs\n",
    "plt.scatter(house_y_train, house_linear_train_predicted, color=\"black\")\n",
    "plt.scatter(house_y_validation, house_linear_validation_predicted, color=\"red\")\n",
    "\n",
    "#plt.plot(cars_y_validation, cars_linear_validation_predicted, color=\"blue\", linewidth=3)\n",
    "\n",
    "plt.xticks(())\n",
    "plt.yticks(())\n",
    "plt.title(\" Dot Chart - Linear Regression\")\n",
    "plt.xlabel(\"Actual Data\")\n",
    "plt.ylabel(\"Predicted Data\")\n",
    "\n",
    "plt.show()"
   ]
  },
  {
   "cell_type": "code",
   "execution_count": 56,
   "id": "f073ea4a",
   "metadata": {},
   "outputs": [],
   "source": [
    "from sklearn.tree import DecisionTreeRegressor\n",
    "\n",
    "decision = DecisionTreeRegressor(random_state=0)\n",
    "decision.fit(house_x_train, house_y_train,)\n",
    "decision_train_predicted = decision.predict(house_x_train)\n",
    "decision_validation_predicted = decision.predict(house_x_validation)"
   ]
  },
  {
   "cell_type": "code",
   "execution_count": 57,
   "id": "76b685ca",
   "metadata": {},
   "outputs": [],
   "source": [
    "r2_train_score = r2_score(house_y_train, decision_train_predicted,)\n",
    "r2_test_score = r2_score(house_y_validation, decision_validation_predicted)\n",
    "R2_train.append(round(r2_train_score,2))\n",
    "R2_test.append(round(r2_test_score,2))"
   ]
  },
  {
   "cell_type": "code",
   "execution_count": 58,
   "id": "802dceaa",
   "metadata": {},
   "outputs": [
    {
     "data": {
      "text/plain": [
       "1.0"
      ]
     },
     "execution_count": 58,
     "metadata": {},
     "output_type": "execute_result"
    }
   ],
   "source": [
    "r2_score(house_y_train, decision_train_predicted)"
   ]
  },
  {
   "cell_type": "code",
   "execution_count": 59,
   "id": "1e1dde85",
   "metadata": {},
   "outputs": [
    {
     "data": {
      "text/plain": [
       "0.7083591001648217"
      ]
     },
     "execution_count": 59,
     "metadata": {},
     "output_type": "execute_result"
    }
   ],
   "source": [
    "r2_score(house_y_validation, decision_validation_predicted)"
   ]
  },
  {
   "cell_type": "code",
   "execution_count": 60,
   "id": "5fca52a4",
   "metadata": {},
   "outputs": [
    {
     "name": "stdout",
     "output_type": "stream",
     "text": [
      "Training data -Mean squared error: 0.00\n",
      "Validation data - Mean squared error: 1436448965.26\n",
      "Training data Coefficient of determination: 1.00\n",
      "Validation data Coefficient of determination: 0.71\n"
     ]
    },
    {
     "data": {
      "image/png": "[encoded data removed]",
      "text/plain": [
       "<Figure size 640x480 with 1 Axes>"
      ]
     },
     "metadata": {},
     "output_type": "display_data"
    }
   ],
   "source": [
    "# The coefficients\n",
    "#print(\"Coefficients: \\n\", model.coef_)\n",
    "# The mean squared error\n",
    "print(\"Training data -Mean squared error: %.2f\" % mean_squared_error(house_y_train, decision_train_predicted))\n",
    "print(\"Validation data - Mean squared error: %.2f\" % mean_squared_error(house_y_validation, decision_validation_predicted))\n",
    "# The coefficient of determination: 1 is perfect prediction\n",
    "print(\"Training data Coefficient of determination: %.2f\" % r2_score(house_y_train, decision_train_predicted))\n",
    "print(\"Validation data Coefficient of determination: %.2f\" % r2_score(house_y_validation, decision_validation_predicted))\n",
    "\n",
    "# Plot outputs\n",
    "\n",
    "\n",
    "plt.scatter(house_y_train, decision_train_predicted, color=\"black\")\n",
    "plt.scatter(house_y_validation, decision_validation_predicted, color=\"red\")\n",
    "\n",
    "\n",
    "#plt.plot\n",
    "\n",
    "plt.xticks(())\n",
    "plt.yticks(())\n",
    "plt.title(\" Dot Chart - Decision Tree\")\n",
    "plt.xlabel(\"Actual Data\")\n",
    "plt.ylabel(\"Predicted Data\")\n",
    "\n",
    "plt.show()"
   ]
  },
  {
   "cell_type": "code",
   "execution_count": 61,
   "id": "27872431",
   "metadata": {},
   "outputs": [],
   "source": [
    "from sklearn.ensemble import RandomForestRegressor\n",
    "from sklearn.model_selection import RandomizedSearchCV\n",
    "\n",
    "rf = RandomForestRegressor()\n",
    "\n",
    "# Number of trees in Random forest\n",
    "n_estimators=list(range(500,1000,100))\n",
    "# Maximum number of levels in a tree\n",
    "max_depth=list(range(4,9,4))\n",
    "# Minimum number of samples required to split an internal node\n",
    "min_samples_split=list(range(4,9,2))\n",
    "# Minimum number of samples required to be at a leaf node.\n",
    "min_samples_leaf=[1,2,5,7]\n",
    "# Number of fearures to be considered at each split\n",
    "max_features=['auto','sqrt']\n",
    "\n",
    "# Hyperparameters dict\n",
    "param_grid = {\"n_estimators\":n_estimators,\n",
    "              \"max_depth\":max_depth,\n",
    "              \"min_samples_split\":min_samples_split,\n",
    "              \"min_samples_leaf\":min_samples_leaf,\n",
    "              \"max_features\":max_features}\n",
    "\n",
    "rf_rs = RandomizedSearchCV(estimator = rf, param_distributions = param_grid)"
   ]
  },
  {
   "cell_type": "code",
   "execution_count": 62,
   "id": "cbe166b1",
   "metadata": {},
   "outputs": [
    {
     "data": {
      "text/html": [
       "<style>#sk-container-id-1 {color: black;}#sk-container-id-1 pre{padding: 0;}#sk-container-id-1 div.sk-toggleable {background-color: white;}#sk-container-id-1 label.sk-toggleable__label {cursor: pointer;display: block;width: 100%;margin-bottom: 0;padding: 0.3em;box-sizing: border-box;text-align: center;}#sk-container-id-1 label.sk-toggleable__label-arrow:before {content: \"▸\";float: left;margin-right: 0.25em;color: #696969;}#sk-container-id-1 label.sk-toggleable__label-arrow:hover:before {color: black;}#sk-container-id-1 div.sk-estimator:hover label.sk-toggleable__label-arrow:before {color: black;}#sk-container-id-1 div.sk-toggleable__content {max-height: 0;max-width: 0;overflow: hidden;text-align: left;background-color: #f0f8ff;}#sk-container-id-1 div.sk-toggleable__content pre {margin: 0.2em;color: black;border-radius: 0.25em;background-color: #f0f8ff;}#sk-container-id-1 input.sk-toggleable__control:checked~div.sk-toggleable__content {max-height: 200px;max-width: 100%;overflow: auto;}#sk-container-id-1 input.sk-toggleable__control:checked~label.sk-toggleable__label-arrow:before {content: \"▾\";}#sk-container-id-1 div.sk-estimator input.sk-toggleable__control:checked~label.sk-toggleable__label {background-color: #d4ebff;}#sk-container-id-1 div.sk-label input.sk-toggleable__control:checked~label.sk-toggleable__label {background-color: #d4ebff;}#sk-container-id-1 input.sk-hidden--visually {border: 0;clip: rect(1px 1px 1px 1px);clip: rect(1px, 1px, 1px, 1px);height: 1px;margin: -1px;overflow: hidden;padding: 0;position: absolute;width: 1px;}#sk-container-id-1 div.sk-estimator {font-family: monospace;background-color: #f0f8ff;border: 1px dotted black;border-radius: 0.25em;box-sizing: border-box;margin-bottom: 0.5em;}#sk-container-id-1 div.sk-estimator:hover {background-color: #d4ebff;}#sk-container-id-1 div.sk-parallel-item::after {content: \"\";width: 100%;border-bottom: 1px solid gray;flex-grow: 1;}#sk-container-id-1 div.sk-label:hover label.sk-toggleable__label {background-color: #d4ebff;}#sk-container-id-1 div.sk-serial::before {content: \"\";position: absolute;border-left: 1px solid gray;box-sizing: border-box;top: 0;bottom: 0;left: 50%;z-index: 0;}#sk-container-id-1 div.sk-serial {display: flex;flex-direction: column;align-items: center;background-color: white;padding-right: 0.2em;padding-left: 0.2em;position: relative;}#sk-container-id-1 div.sk-item {position: relative;z-index: 1;}#sk-container-id-1 div.sk-parallel {display: flex;align-items: stretch;justify-content: center;background-color: white;position: relative;}#sk-container-id-1 div.sk-item::before, #sk-container-id-1 div.sk-parallel-item::before {content: \"\";position: absolute;border-left: 1px solid gray;box-sizing: border-box;top: 0;bottom: 0;left: 50%;z-index: -1;}#sk-container-id-1 div.sk-parallel-item {display: flex;flex-direction: column;z-index: 1;position: relative;background-color: white;}#sk-container-id-1 div.sk-parallel-item:first-child::after {align-self: flex-end;width: 50%;}#sk-container-id-1 div.sk-parallel-item:last-child::after {align-self: flex-start;width: 50%;}#sk-container-id-1 div.sk-parallel-item:only-child::after {width: 0;}#sk-container-id-1 div.sk-dashed-wrapped {border: 1px dashed gray;margin: 0 0.4em 0.5em 0.4em;box-sizing: border-box;padding-bottom: 0.4em;background-color: white;}#sk-container-id-1 div.sk-label label {font-family: monospace;font-weight: bold;display: inline-block;line-height: 1.2em;}#sk-container-id-1 div.sk-label-container {text-align: center;}#sk-container-id-1 div.sk-container {/* jupyter's `normalize.less` sets `[hidden] { display: none; }` but bootstrap.min.css set `[hidden] { display: none !important; }` so we also need the `!important` here to be able to override the default hidden behavior on the sphinx rendered scikit-learn.org. See: https://github.com/scikit-learn/scikit-learn/issues/21755 */display: inline-block !important;position: relative;}#sk-container-id-1 div.sk-text-repr-fallback {display: none;}</style><div id=\"sk-container-id-1\" class=\"sk-top-container\"><div class=\"sk-text-repr-fallback\"><pre>RandomizedSearchCV(estimator=RandomForestRegressor(),\n",
       "                   param_distributions={&#x27;max_depth&#x27;: [4, 8],\n",
       "                                        &#x27;max_features&#x27;: [&#x27;auto&#x27;, &#x27;sqrt&#x27;],\n",
       "                                        &#x27;min_samples_leaf&#x27;: [1, 2, 5, 7],\n",
       "                                        &#x27;min_samples_split&#x27;: [4, 6, 8],\n",
       "                                        &#x27;n_estimators&#x27;: [500, 600, 700, 800,\n",
       "                                                         900]})</pre><b>In a Jupyter environment, please rerun this cell to show the HTML representation or trust the notebook. <br />On GitHub, the HTML representation is unable to render, please try loading this page with nbviewer.org.</b></div><div class=\"sk-container\" hidden><div class=\"sk-item sk-dashed-wrapped\"><div class=\"sk-label-container\"><div class=\"sk-label sk-toggleable\"><input class=\"sk-toggleable__control sk-hidden--visually\" id=\"sk-estimator-id-1\" type=\"checkbox\" ><label for=\"sk-estimator-id-1\" class=\"sk-toggleable__label sk-toggleable__label-arrow\">RandomizedSearchCV</label><div class=\"sk-toggleable__content\"><pre>RandomizedSearchCV(estimator=RandomForestRegressor(),\n",
       "                   param_distributions={&#x27;max_depth&#x27;: [4, 8],\n",
       "                                        &#x27;max_features&#x27;: [&#x27;auto&#x27;, &#x27;sqrt&#x27;],\n",
       "                                        &#x27;min_samples_leaf&#x27;: [1, 2, 5, 7],\n",
       "                                        &#x27;min_samples_split&#x27;: [4, 6, 8],\n",
       "                                        &#x27;n_estimators&#x27;: [500, 600, 700, 800,\n",
       "                                                         900]})</pre></div></div></div><div class=\"sk-parallel\"><div class=\"sk-parallel-item\"><div class=\"sk-item\"><div class=\"sk-label-container\"><div class=\"sk-label sk-toggleable\"><input class=\"sk-toggleable__control sk-hidden--visually\" id=\"sk-estimator-id-2\" type=\"checkbox\" ><label for=\"sk-estimator-id-2\" class=\"sk-toggleable__label sk-toggleable__label-arrow\">estimator: RandomForestRegressor</label><div class=\"sk-toggleable__content\"><pre>RandomForestRegressor()</pre></div></div></div><div class=\"sk-serial\"><div class=\"sk-item\"><div class=\"sk-estimator sk-toggleable\"><input class=\"sk-toggleable__control sk-hidden--visually\" id=\"sk-estimator-id-3\" type=\"checkbox\" ><label for=\"sk-estimator-id-3\" class=\"sk-toggleable__label sk-toggleable__label-arrow\">RandomForestRegressor</label><div class=\"sk-toggleable__content\"><pre>RandomForestRegressor()</pre></div></div></div></div></div></div></div></div></div></div>"
      ],
      "text/plain": [
       "RandomizedSearchCV(estimator=RandomForestRegressor(),\n",
       "                   param_distributions={'max_depth': [4, 8],\n",
       "                                        'max_features': ['auto', 'sqrt'],\n",
       "                                        'min_samples_leaf': [1, 2, 5, 7],\n",
       "                                        'min_samples_split': [4, 6, 8],\n",
       "                                        'n_estimators': [500, 600, 700, 800,\n",
       "                                                         900]})"
      ]
     },
     "execution_count": 62,
     "metadata": {},
     "output_type": "execute_result"
    }
   ],
   "source": [
    "rf_rs"
   ]
  },
  {
   "cell_type": "code",
   "execution_count": 63,
   "id": "3e9b3d1c",
   "metadata": {},
   "outputs": [
    {
     "data": {
      "text/plain": [
       "{'n_estimators': 700,\n",
       " 'min_samples_split': 6,\n",
       " 'min_samples_leaf': 5,\n",
       " 'max_features': 'sqrt',\n",
       " 'max_depth': 8}"
      ]
     },
     "execution_count": 63,
     "metadata": {},
     "output_type": "execute_result"
    }
   ],
   "source": [
    "rf_rs.fit(house_x_train, house_y_train)\n",
    "rf_rs.best_params_"
   ]
  },
  {
   "cell_type": "code",
   "execution_count": 64,
   "id": "28b364c4",
   "metadata": {},
   "outputs": [],
   "source": [
    "house_random_train_predicted = rf_rs.predict(house_x_train)\n",
    "house_random_validation_predicted = rf_rs.predict(house_x_validation)"
   ]
  },
  {
   "cell_type": "code",
   "execution_count": 65,
   "id": "c51c1c4b",
   "metadata": {},
   "outputs": [
    {
     "data": {
      "text/plain": [
       "0.7461234288233451"
      ]
     },
     "execution_count": 65,
     "metadata": {},
     "output_type": "execute_result"
    }
   ],
   "source": [
    "r2_score(house_y_train, house_random_train_predicted)"
   ]
  },
  {
   "cell_type": "code",
   "execution_count": 66,
   "id": "a1b2870a",
   "metadata": {},
   "outputs": [
    {
     "data": {
      "text/plain": [
       "0.597875685352319"
      ]
     },
     "execution_count": 66,
     "metadata": {},
     "output_type": "execute_result"
    }
   ],
   "source": [
    "r2_score(house_y_validation, house_random_validation_predicted)"
   ]
  },
  {
   "cell_type": "code",
   "execution_count": 67,
   "id": "b5f79fed",
   "metadata": {},
   "outputs": [],
   "source": [
    "r2_train_score = r2_score(house_y_train, house_random_train_predicted)\n",
    "r2_test_score = r2_score(house_y_validation, house_random_validation_predicted)\n",
    "R2_train.append(round(r2_train_score,2))\n",
    "R2_test.append(round(r2_test_score,2))"
   ]
  },
  {
   "cell_type": "code",
   "execution_count": 68,
   "id": "d7b993ca",
   "metadata": {},
   "outputs": [
    {
     "name": "stdout",
     "output_type": "stream",
     "text": [
      "Training data -Mean squared error: 1680546768.95\n",
      "Validation data - Mean squared error: 1980624308.89\n",
      "Training data Coefficient of determination: 0.75\n",
      "Validation data Coefficient of determination: 0.60\n"
     ]
    },
    {
     "data": {
      "image/png": "[encoded data removed]",
      "text/plain": [
       "<Figure size 640x480 with 1 Axes>"
      ]
     },
     "metadata": {},
     "output_type": "display_data"
    }
   ],
   "source": [
    "# The coefficients\n",
    "#print(\"Coefficients: \\n\", model.coef_)\n",
    "# The mean squared error\n",
    "print(\"Training data -Mean squared error: %.2f\" % mean_squared_error(house_y_train, house_random_train_predicted))\n",
    "print(\"Validation data - Mean squared error: %.2f\" % mean_squared_error(house_y_validation, house_random_validation_predicted))\n",
    "# The coefficient of determination: 1 is perfect prediction\n",
    "print(\"Training data Coefficient of determination: %.2f\" % r2_score(house_y_train, house_random_train_predicted))\n",
    "print(\"Validation data Coefficient of determination: %.2f\" % r2_score(house_y_validation, house_random_validation_predicted))\n",
    "\n",
    "# Plot outputs\n",
    "plt.scatter(house_y_train, house_random_train_predicted, color=\"black\")\n",
    "plt.scatter(house_y_validation, house_random_validation_predicted, color=\"red\")\n",
    "\n",
    "\n",
    "\n",
    "plt.xticks(())\n",
    "plt.yticks(())\n",
    "plt.title(\" Dot Chart for Random Forest\")\n",
    "plt.xlabel(\"Actual Data\")\n",
    "plt.ylabel(\"Predicted Data\")\n",
    "\n",
    "plt.show()"
   ]
  },
  {
   "cell_type": "markdown",
   "id": "f38ea842",
   "metadata": {},
   "source": [
    "# Lasso Regression"
   ]
  },
  {
   "cell_type": "code",
   "execution_count": 69,
   "id": "f8ed1b6c",
   "metadata": {},
   "outputs": [],
   "source": [
    "from sklearn.linear_model import Lasso\n",
    "from sklearn.model_selection import RandomizedSearchCV\n",
    "\n",
    "ls = Lasso()\n",
    "alpha = np.logspace(-3,3,num=14) # range for alpha\n",
    "\n",
    "ls_rs = RandomizedSearchCV(estimator = ls, param_distributions = dict(alpha=alpha))"
   ]
  },
  {
   "cell_type": "code",
   "execution_count": 70,
   "id": "ec09b6ab",
   "metadata": {},
   "outputs": [
    {
     "data": {
      "text/plain": [
       "{'alpha': 1000.0}"
      ]
     },
     "execution_count": 70,
     "metadata": {},
     "output_type": "execute_result"
    }
   ],
   "source": [
    "ls_rs.fit(house_x_train,house_y_train)\n",
    "ls_rs.best_params_"
   ]
  },
  {
   "cell_type": "code",
   "execution_count": 71,
   "id": "756c0aee",
   "metadata": {},
   "outputs": [],
   "source": [
    "house_lasso_train_predicted = ls_rs.predict(house_x_train)\n",
    "house_lasso_validation_predicted = ls_rs.predict(house_x_validation)"
   ]
  },
  {
   "cell_type": "code",
   "execution_count": 72,
   "id": "a3ecded9",
   "metadata": {},
   "outputs": [
    {
     "data": {
      "text/plain": [
       "0.8752319317159633"
      ]
     },
     "execution_count": 72,
     "metadata": {},
     "output_type": "execute_result"
    }
   ],
   "source": [
    "r2_score(house_y_train,house_lasso_train_predicted)"
   ]
  },
  {
   "cell_type": "code",
   "execution_count": 73,
   "id": "a8bf06e2",
   "metadata": {},
   "outputs": [
    {
     "data": {
      "text/plain": [
       "0.8546839457713808"
      ]
     },
     "execution_count": 73,
     "metadata": {},
     "output_type": "execute_result"
    }
   ],
   "source": [
    "r2_score(house_y_validation, house_lasso_validation_predicted)"
   ]
  },
  {
   "cell_type": "code",
   "execution_count": 74,
   "id": "e9f01f11",
   "metadata": {},
   "outputs": [],
   "source": [
    "r2_train_score = r2_score(house_y_train, house_lasso_train_predicted)\n",
    "r2_test_score = r2_score(house_y_validation, house_lasso_validation_predicted)\n",
    "R2_train.append(round(r2_train_score,2))\n",
    "R2_test.append(round(r2_test_score,2))"
   ]
  },
  {
   "cell_type": "code",
   "execution_count": 75,
   "id": "777c02f1",
   "metadata": {},
   "outputs": [
    {
     "name": "stdout",
     "output_type": "stream",
     "text": [
      "Training data -Mean squared error: 825907538.65\n",
      "Validation data - Mean squared error: 715740130.58\n",
      "Training data R2 Score: 0.88\n",
      "Validation data R2 Score: 0.85\n"
     ]
    },
    {
     "data": {
      "image/png": "[encoded data removed]",
      "text/plain": [
       "<Figure size 640x480 with 1 Axes>"
      ]
     },
     "metadata": {},
     "output_type": "display_data"
    }
   ],
   "source": [
    "# The coefficients\n",
    "#print(\"Coefficients: \\n\", model.coef_)\n",
    "# The mean squared error\n",
    "print(\"Training data -Mean squared error: %.2f\" % mean_squared_error(house_y_train, house_lasso_train_predicted))\n",
    "print(\"Validation data - Mean squared error: %.2f\" % mean_squared_error(house_y_validation, house_lasso_validation_predicted))\n",
    "# The coefficient of determination: 1 is perfect prediction\n",
    "print(\"Training data R2 Score: %.2f\" % r2_score(house_y_train, house_lasso_train_predicted))\n",
    "print(\"Validation data R2 Score: %.2f\" % r2_score(house_y_validation, house_lasso_validation_predicted))\n",
    "\n",
    "# Plot outputs\n",
    "plt.scatter(house_y_train, house_lasso_train_predicted, color=\"black\")\n",
    "plt.scatter(house_y_validation, house_lasso_validation_predicted, color=\"red\")\n",
    "\n",
    "\n",
    "plt.xticks(())\n",
    "plt.yticks(())\n",
    "plt.title(\" Dot Chart for Lasso Regression\")\n",
    "plt.xlabel(\"Actual Data\")\n",
    "plt.ylabel(\"Predicted Data\")\n",
    "\n",
    "plt.show()"
   ]
  },
  {
   "cell_type": "markdown",
   "id": "a6bb0440",
   "metadata": {},
   "source": [
    "# Ridge Regression"
   ]
  },
  {
   "cell_type": "code",
   "execution_count": 76,
   "id": "333e0080",
   "metadata": {},
   "outputs": [],
   "source": [
    "from sklearn.linear_model import Ridge\n",
    "from sklearn.model_selection import RandomizedSearchCV\n",
    "\n",
    "# Creating Ridge model object\n",
    "rg = Ridge()\n",
    "# range of alpha \n",
    "alpha = np.logspace(-3,3,num=14)\n",
    "\n",
    "# Creating RandomizedSearchCV to find the best estimator of hyperparameter\n",
    "rg_rs = RandomizedSearchCV(estimator = rg, param_distributions = dict(alpha=alpha))"
   ]
  },
  {
   "cell_type": "code",
   "execution_count": 77,
   "id": "db573921",
   "metadata": {},
   "outputs": [
    {
     "data": {
      "text/plain": [
       "{'alpha': 1000.0}"
      ]
     },
     "execution_count": 77,
     "metadata": {},
     "output_type": "execute_result"
    }
   ],
   "source": [
    "rg_rs.fit(house_x_train, house_y_train)\n",
    "rg_rs.best_params_"
   ]
  },
  {
   "cell_type": "code",
   "execution_count": 78,
   "id": "50d8b703",
   "metadata": {},
   "outputs": [],
   "source": [
    "house_ridge_train_predicted = rg_rs.predict(house_x_train)\n",
    "house_ridge_validation_predicted = rg_rs.predict(house_x_validation)"
   ]
  },
  {
   "cell_type": "code",
   "execution_count": 79,
   "id": "057544f3",
   "metadata": {},
   "outputs": [
    {
     "data": {
      "text/plain": [
       "0.872562461103013"
      ]
     },
     "execution_count": 79,
     "metadata": {},
     "output_type": "execute_result"
    }
   ],
   "source": [
    "r2_score(house_y_train, house_ridge_train_predicted)"
   ]
  },
  {
   "cell_type": "code",
   "execution_count": 80,
   "id": "c1b7b842",
   "metadata": {},
   "outputs": [
    {
     "data": {
      "text/plain": [
       "0.8578902156421805"
      ]
     },
     "execution_count": 80,
     "metadata": {},
     "output_type": "execute_result"
    }
   ],
   "source": [
    "r2_score(house_y_validation, house_ridge_validation_predicted)"
   ]
  },
  {
   "cell_type": "code",
   "execution_count": 81,
   "id": "620accf8",
   "metadata": {},
   "outputs": [],
   "source": [
    "r2_train_score = r2_score(house_y_train, house_ridge_train_predicted)\n",
    "r2_test_score = r2_score(house_y_validation, house_ridge_validation_predicted)\n",
    "R2_train.append(round(r2_train_score,2))\n",
    "R2_test.append(round(r2_test_score,2))"
   ]
  },
  {
   "cell_type": "code",
   "execution_count": 82,
   "id": "f024af7c",
   "metadata": {},
   "outputs": [
    {
     "name": "stdout",
     "output_type": "stream",
     "text": [
      "Training data -Mean squared error: 843578213.00\n",
      "Validation data - Mean squared error: 699947959.32\n",
      "Training data R2 Score: 0.87\n",
      "Validation data R2 Score: 0.86\n"
     ]
    },
    {
     "data": {
      "image/png": "[encoded data removed]",
      "text/plain": [
       "<Figure size 640x480 with 1 Axes>"
      ]
     },
     "metadata": {},
     "output_type": "display_data"
    }
   ],
   "source": [
    "# The coefficients\n",
    "#print(\"Coefficients: \\n\", model.coef_)\n",
    "# The mean squared error\n",
    "print(\"Training data -Mean squared error: %.2f\" % mean_squared_error(house_y_train, house_ridge_train_predicted))\n",
    "print(\"Validation data - Mean squared error: %.2f\" % mean_squared_error(house_y_validation, house_ridge_validation_predicted))\n",
    "# The coefficient of determination: 1 is perfect prediction\n",
    "print(\"Training data R2 Score: %.2f\" % r2_score(house_y_train, house_ridge_train_predicted))\n",
    "print(\"Validation data R2 Score: %.2f\" % r2_score(house_y_validation, house_ridge_validation_predicted))\n",
    "\n",
    "# Plot outputs\n",
    "plt.scatter(house_y_train, house_ridge_train_predicted, color=\"black\")\n",
    "plt.scatter(house_y_validation,house_ridge_validation_predicted, color=\"red\")\n",
    "\n",
    "\n",
    "plt.xticks(())\n",
    "plt.yticks(())\n",
    "plt.title(\" Dot Chart for Ridge Regression\")\n",
    "plt.xlabel(\"Actual Data\")\n",
    "plt.ylabel(\"Predicted Data\")\n",
    "\n",
    "plt.show()"
   ]
  },
  {
   "cell_type": "code",
   "execution_count": 83,
   "id": "df5b6896",
   "metadata": {},
   "outputs": [
    {
     "data": {
      "text/html": [
       "<div>\n",
       "<style scoped>\n",
       "    .dataframe tbody tr th:only-of-type {\n",
       "        vertical-align: middle;\n",
       "    }\n",
       "\n",
       "    .dataframe tbody tr th {\n",
       "        vertical-align: top;\n",
       "    }\n",
       "\n",
       "    .dataframe thead th {\n",
       "        text-align: right;\n",
       "    }\n",
       "</style>\n",
       "<table border=\"1\" class=\"dataframe\">\n",
       "  <thead>\n",
       "    <tr style=\"text-align: right;\">\n",
       "      <th></th>\n",
       "      <th>Model</th>\n",
       "      <th>R Squared ( Train )</th>\n",
       "      <th>R Squared ( Validation )</th>\n",
       "    </tr>\n",
       "  </thead>\n",
       "  <tbody>\n",
       "    <tr>\n",
       "      <th>0</th>\n",
       "      <td>Linear Regression</td>\n",
       "      <td>0.89</td>\n",
       "      <td>0.82</td>\n",
       "    </tr>\n",
       "    <tr>\n",
       "      <th>1</th>\n",
       "      <td>Decision Tree</td>\n",
       "      <td>1.00</td>\n",
       "      <td>0.71</td>\n",
       "    </tr>\n",
       "    <tr>\n",
       "      <th>2</th>\n",
       "      <td>Random Forest Regression</td>\n",
       "      <td>0.75</td>\n",
       "      <td>0.60</td>\n",
       "    </tr>\n",
       "    <tr>\n",
       "      <th>3</th>\n",
       "      <td>Lasso Regression</td>\n",
       "      <td>0.88</td>\n",
       "      <td>0.85</td>\n",
       "    </tr>\n",
       "    <tr>\n",
       "      <th>4</th>\n",
       "      <td>Ridge Regression</td>\n",
       "      <td>0.87</td>\n",
       "      <td>0.86</td>\n",
       "    </tr>\n",
       "  </tbody>\n",
       "</table>\n",
       "</div>"
      ],
      "text/plain": [
       "                      Model  R Squared ( Train )  R Squared ( Validation )\n",
       "0         Linear Regression                 0.89                      0.82\n",
       "1             Decision Tree                 1.00                      0.71\n",
       "2  Random Forest Regression                 0.75                      0.60\n",
       "3          Lasso Regression                 0.88                      0.85\n",
       "4          Ridge Regression                 0.87                      0.86"
      ]
     },
     "metadata": {},
     "output_type": "display_data"
    }
   ],
   "source": [
    "Technique = [\"Linear Regression\", \"Decision Tree\",\"Random Forest Regression\",\"Lasso Regression\",\"Ridge Regression\"]\n",
    "results=pd.DataFrame({'Model': Technique,'R Squared ( Train )': R2_train,'R Squared ( Validation )': R2_test})\n",
    "display(results)"
   ]
  },
  {
   "cell_type": "markdown",
   "id": "5501f30f",
   "metadata": {},
   "source": [
    "# Ridge Regression is the best Regressor so using it for pridicting the future data "
   ]
  },
  {
   "cell_type": "code",
   "execution_count": 84,
   "id": "3ad1923f",
   "metadata": {},
   "outputs": [],
   "source": [
    "house_test_predicted = rg_rs.predict(house_x_test)"
   ]
  },
  {
   "cell_type": "code",
   "execution_count": 85,
   "id": "69bc4377",
   "metadata": {},
   "outputs": [
    {
     "data": {
      "text/plain": [
       "array([138517.96687288, 164963.95087747, 187829.16643854, ...,\n",
       "       162907.02708624, 117050.44812123, 204237.28439317])"
      ]
     },
     "execution_count": 85,
     "metadata": {},
     "output_type": "execute_result"
    }
   ],
   "source": [
    "house_test_predicted"
   ]
  },
  {
   "cell_type": "code",
   "execution_count": 86,
   "id": "420077f0",
   "metadata": {},
   "outputs": [
    {
     "data": {
      "text/plain": [
       "(1459, 158)"
      ]
     },
     "execution_count": 86,
     "metadata": {},
     "output_type": "execute_result"
    }
   ],
   "source": [
    "house_x_test.shape"
   ]
  },
  {
   "cell_type": "code",
   "execution_count": 87,
   "id": "cc9f5ea5",
   "metadata": {},
   "outputs": [],
   "source": [
    "predictions_df = pd.DataFrame({'Predicted_Price': house_test_predicted})\n",
    "predictions_df.to_csv('predicted_prices.csv', index=False)"
   ]
  },
  {
   "cell_type": "code",
   "execution_count": 88,
   "id": "224a85c3",
   "metadata": {},
   "outputs": [],
   "source": [
    "Pedicted_future = pd.read_excel('Furture_data_clean.xlsx')"
   ]
  },
  {
   "cell_type": "code",
   "execution_count": 89,
   "id": "0e66f6c0",
   "metadata": {},
   "outputs": [
    {
     "data": {
      "text/html": [
       "<div>\n",
       "<style scoped>\n",
       "    .dataframe tbody tr th:only-of-type {\n",
       "        vertical-align: middle;\n",
       "    }\n",
       "\n",
       "    .dataframe tbody tr th {\n",
       "        vertical-align: top;\n",
       "    }\n",
       "\n",
       "    .dataframe thead th {\n",
       "        text-align: right;\n",
       "    }\n",
       "</style>\n",
       "<table border=\"1\" class=\"dataframe\">\n",
       "  <thead>\n",
       "    <tr style=\"text-align: right;\">\n",
       "      <th></th>\n",
       "      <th>Id</th>\n",
       "      <th>MSSubClass</th>\n",
       "      <th>MSZoning</th>\n",
       "      <th>LotFrontage</th>\n",
       "      <th>LotArea</th>\n",
       "      <th>Street</th>\n",
       "      <th>Alley</th>\n",
       "      <th>LotShape</th>\n",
       "      <th>LandContour</th>\n",
       "      <th>Utilities</th>\n",
       "      <th>...</th>\n",
       "      <th>MiscVal</th>\n",
       "      <th>MoSold</th>\n",
       "      <th>YrSold</th>\n",
       "      <th>SaleType</th>\n",
       "      <th>SaleCondition</th>\n",
       "      <th>agebybuilt</th>\n",
       "      <th>agebyremodel</th>\n",
       "      <th>TotalGrBsmtSF</th>\n",
       "      <th>OA2</th>\n",
       "      <th>Predicted_Price</th>\n",
       "    </tr>\n",
       "  </thead>\n",
       "  <tbody>\n",
       "    <tr>\n",
       "      <th>0</th>\n",
       "      <td>1461</td>\n",
       "      <td>20</td>\n",
       "      <td>RH</td>\n",
       "      <td>80.0</td>\n",
       "      <td>11622</td>\n",
       "      <td>Pave</td>\n",
       "      <td>NaN</td>\n",
       "      <td>Reg</td>\n",
       "      <td>Lvl</td>\n",
       "      <td>AllPub</td>\n",
       "      <td>...</td>\n",
       "      <td>0</td>\n",
       "      <td>6</td>\n",
       "      <td>2010</td>\n",
       "      <td>WD</td>\n",
       "      <td>Normal</td>\n",
       "      <td>49</td>\n",
       "      <td>49</td>\n",
       "      <td>1778</td>\n",
       "      <td>2508</td>\n",
       "      <td>138517.966873</td>\n",
       "    </tr>\n",
       "    <tr>\n",
       "      <th>1</th>\n",
       "      <td>1462</td>\n",
       "      <td>20</td>\n",
       "      <td>RL</td>\n",
       "      <td>81.0</td>\n",
       "      <td>14267</td>\n",
       "      <td>Pave</td>\n",
       "      <td>NaN</td>\n",
       "      <td>IR1</td>\n",
       "      <td>Lvl</td>\n",
       "      <td>AllPub</td>\n",
       "      <td>...</td>\n",
       "      <td>12500</td>\n",
       "      <td>6</td>\n",
       "      <td>2010</td>\n",
       "      <td>WD</td>\n",
       "      <td>Normal</td>\n",
       "      <td>52</td>\n",
       "      <td>52</td>\n",
       "      <td>2658</td>\n",
       "      <td>3078</td>\n",
       "      <td>164963.950877</td>\n",
       "    </tr>\n",
       "    <tr>\n",
       "      <th>2</th>\n",
       "      <td>1463</td>\n",
       "      <td>60</td>\n",
       "      <td>RL</td>\n",
       "      <td>74.0</td>\n",
       "      <td>13830</td>\n",
       "      <td>Pave</td>\n",
       "      <td>NaN</td>\n",
       "      <td>IR1</td>\n",
       "      <td>Lvl</td>\n",
       "      <td>AllPub</td>\n",
       "      <td>...</td>\n",
       "      <td>0</td>\n",
       "      <td>3</td>\n",
       "      <td>2010</td>\n",
       "      <td>WD</td>\n",
       "      <td>Normal</td>\n",
       "      <td>13</td>\n",
       "      <td>12</td>\n",
       "      <td>2557</td>\n",
       "      <td>3039</td>\n",
       "      <td>187829.166439</td>\n",
       "    </tr>\n",
       "    <tr>\n",
       "      <th>3</th>\n",
       "      <td>1464</td>\n",
       "      <td>60</td>\n",
       "      <td>RL</td>\n",
       "      <td>78.0</td>\n",
       "      <td>9978</td>\n",
       "      <td>Pave</td>\n",
       "      <td>NaN</td>\n",
       "      <td>IR1</td>\n",
       "      <td>Lvl</td>\n",
       "      <td>AllPub</td>\n",
       "      <td>...</td>\n",
       "      <td>0</td>\n",
       "      <td>6</td>\n",
       "      <td>2010</td>\n",
       "      <td>WD</td>\n",
       "      <td>Normal</td>\n",
       "      <td>12</td>\n",
       "      <td>12</td>\n",
       "      <td>2530</td>\n",
       "      <td>3020</td>\n",
       "      <td>183587.578736</td>\n",
       "    </tr>\n",
       "    <tr>\n",
       "      <th>4</th>\n",
       "      <td>1465</td>\n",
       "      <td>120</td>\n",
       "      <td>RL</td>\n",
       "      <td>43.0</td>\n",
       "      <td>5005</td>\n",
       "      <td>Pave</td>\n",
       "      <td>NaN</td>\n",
       "      <td>IR1</td>\n",
       "      <td>HLS</td>\n",
       "      <td>AllPub</td>\n",
       "      <td>...</td>\n",
       "      <td>0</td>\n",
       "      <td>1</td>\n",
       "      <td>2010</td>\n",
       "      <td>WD</td>\n",
       "      <td>Normal</td>\n",
       "      <td>18</td>\n",
       "      <td>18</td>\n",
       "      <td>2560</td>\n",
       "      <td>3066</td>\n",
       "      <td>193708.357725</td>\n",
       "    </tr>\n",
       "  </tbody>\n",
       "</table>\n",
       "<p>5 rows × 81 columns</p>\n",
       "</div>"
      ],
      "text/plain": [
       "     Id  MSSubClass MSZoning  LotFrontage  LotArea Street Alley LotShape  \\\n",
       "0  1461          20       RH         80.0    11622   Pave   NaN      Reg   \n",
       "1  1462          20       RL         81.0    14267   Pave   NaN      IR1   \n",
       "2  1463          60       RL         74.0    13830   Pave   NaN      IR1   \n",
       "3  1464          60       RL         78.0     9978   Pave   NaN      IR1   \n",
       "4  1465         120       RL         43.0     5005   Pave   NaN      IR1   \n",
       "\n",
       "  LandContour Utilities  ... MiscVal MoSold YrSold SaleType SaleCondition  \\\n",
       "0         Lvl    AllPub  ...       0      6   2010       WD        Normal   \n",
       "1         Lvl    AllPub  ...   12500      6   2010       WD        Normal   \n",
       "2         Lvl    AllPub  ...       0      3   2010       WD        Normal   \n",
       "3         Lvl    AllPub  ...       0      6   2010       WD        Normal   \n",
       "4         HLS    AllPub  ...       0      1   2010       WD        Normal   \n",
       "\n",
       "  agebybuilt agebyremodel  TotalGrBsmtSF   OA2  Predicted_Price  \n",
       "0         49           49           1778  2508    138517.966873  \n",
       "1         52           52           2658  3078    164963.950877  \n",
       "2         13           12           2557  3039    187829.166439  \n",
       "3         12           12           2530  3020    183587.578736  \n",
       "4         18           18           2560  3066    193708.357725  \n",
       "\n",
       "[5 rows x 81 columns]"
      ]
     },
     "execution_count": 89,
     "metadata": {},
     "output_type": "execute_result"
    }
   ],
   "source": [
    "Pedicted_future['Predicted_Price'] = house_test_predicted\n",
    "\n",
    "# Save the DataFrame with predicted prices to a CSV file\n",
    "Pedicted_future.to_csv('test_data_with_predictions.csv', index=False)\n",
    "\n",
    "# Now your 'house_x_test' DataFrame has an additional column 'Predicted_Price'\n",
    "Pedicted_future.head()"
   ]
  },
  {
   "cell_type": "markdown",
   "id": "2ca69c8c",
   "metadata": {},
   "source": [
    "# <font color = maroon>Data exploration and visualization for Predicted data "
   ]
  },
  {
   "cell_type": "code",
   "execution_count": 90,
   "id": "8b1a7410",
   "metadata": {},
   "outputs": [
    {
     "data": {
      "image/png": "[encoded data removed]",
      "text/plain": [
       "<Figure size 640x480 with 1 Axes>"
      ]
     },
     "metadata": {},
     "output_type": "display_data"
    },
    {
     "name": "stdout",
     "output_type": "stream",
     "text": [
      "count      1459.000000\n",
      "mean     178891.445250\n",
      "std       69971.633524\n",
      "min       31142.666609\n",
      "25%      131116.780577\n",
      "50%      165441.858532\n",
      "75%      210867.161810\n",
      "max      579647.346142\n",
      "Name: Predicted_Price, dtype: float64\n"
     ]
    }
   ],
   "source": [
    "plt.title('Housing Predicted Price Spread')\n",
    "sns.boxplot(y=Pedicted_future.Predicted_Price)\n",
    "plt.show()\n",
    "print(Pedicted_future.Predicted_Price.describe())"
   ]
  },
  {
   "cell_type": "code",
   "execution_count": 91,
   "id": "bef863f4",
   "metadata": {},
   "outputs": [
    {
     "data": {
      "image/png": "[encoded data removed]",
      "text/plain": [
       "<Figure size 800x600 with 1 Axes>"
      ]
     },
     "metadata": {},
     "output_type": "display_data"
    }
   ],
   "source": [
    "plt.figure(figsize=(8, 6))\n",
    "plt.title('Predicted Sales Price Distribution')\n",
    "sns.histplot(Pedicted_future['Predicted_Price'], kde=True, color='blue')\n",
    "plt.xlabel('Predicted Price')\n",
    "plt.ylabel('Frequency')\n",
    "plt.tight_layout()\n",
    "plt.show()"
   ]
  },
  {
   "cell_type": "code",
   "execution_count": 92,
   "id": "aa601eea",
   "metadata": {},
   "outputs": [
    {
     "data": {
      "image/png": "[encoded data removed]",
      "text/plain": [
       "<Figure size 800x600 with 1 Axes>"
      ]
     },
     "metadata": {},
     "output_type": "display_data"
    }
   ],
   "source": [
    "plt.figure(figsize=(8, 6))\n",
    "plt.title('Historic Sales Price Distribution')\n",
    "sns.histplot(house['SalePrice'], kde=True, color='blue')\n",
    "plt.xlabel('Historic Sales Price')\n",
    "plt.ylabel('Frequency')\n",
    "plt.tight_layout()\n",
    "plt.show()"
   ]
  },
  {
   "cell_type": "code",
   "execution_count": 93,
   "id": "9401438f",
   "metadata": {},
   "outputs": [
    {
     "data": {
      "image/png": "[encoded data removed]",
      "text/plain": [
       "<Figure size 800x600 with 1 Axes>"
      ]
     },
     "metadata": {},
     "output_type": "display_data"
    }
   ],
   "source": [
    "plt.figure(figsize=(8, 6))\n",
    "sns.boxplot(data=Pedicted_future,x='HouseStyle', y='Predicted_Price', hue=\"HouseStyle\",dodge=False)\n",
    "title = plt.title('Distribution of House Styles for future data ')"
   ]
  },
  {
   "cell_type": "code",
   "execution_count": 94,
   "id": "b49a566c",
   "metadata": {},
   "outputs": [
    {
     "data": {
      "image/png": "[encoded data removed]",
      "text/plain": [
       "<Figure size 1500x2000 with 8 Axes>"
      ]
     },
     "metadata": {},
     "output_type": "display_data"
    }
   ],
   "source": [
    "def plot_count(x,fig):\n",
    "    plt.subplot(4,2,fig)\n",
    "    plt.title(x+' Histogram')\n",
    "    sns.countplot(Pedicted_future[x],palette=(\"magma\"))\n",
    "    plt.subplot(4,2,(fig+1))\n",
    "    plt.title(x+' vs SalePrice')\n",
    "    sns.boxplot(x=Pedicted_future[x], y=Pedicted_future.Predicted_Price, palette=(\"magma\"))\n",
    "    \n",
    "plt.figure(figsize=(15,20))\n",
    "\n",
    "plot_count('GarageCars', 1)\n",
    "plot_count('LotArea', 3)\n",
    "plot_count('OverallQual', 5)\n",
    "plot_count('agebybuilt', 7)\n",
    "\n",
    "plt.tight_layout()"
   ]
  },
  {
   "cell_type": "code",
   "execution_count": 95,
   "id": "06a848cc",
   "metadata": {},
   "outputs": [],
   "source": [
    "dfcheckpoint=Pedicted_future"
   ]
  },
  {
   "cell_type": "code",
   "execution_count": 96,
   "id": "b74af027",
   "metadata": {},
   "outputs": [],
   "source": [
    "dfcheckpoint.to_excel(\"Pedicted_future_data.xlsx\", index=False)"
   ]
  }
 ],
 "metadata": {
  "kernelspec": {
   "display_name": "Python 3 (ipykernel)",
   "language": "python",
   "name": "python3"
  },
  "language_info": {
   "codemirror_mode": {
    "name": "ipython",
    "version": 3
   },
   "file_extension": ".py",
   "mimetype": "text/x-python",
   "name": "python",
   "nbconvert_exporter": "python",
   "pygments_lexer": "ipython3",
   "version": "3.11.1"
  }
 },
 "nbformat": 4,
 "nbformat_minor": 5
}
